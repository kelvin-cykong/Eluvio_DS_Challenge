{
 "metadata": {
  "language_info": {
   "codemirror_mode": {
    "name": "ipython",
    "version": 3
   },
   "file_extension": ".py",
   "mimetype": "text/x-python",
   "name": "python",
   "nbconvert_exporter": "python",
   "pygments_lexer": "ipython3",
   "version": "3.8.5-final"
  },
  "orig_nbformat": 2,
  "kernelspec": {
   "name": "python3",
   "display_name": "Python 3.8.5 64-bit",
   "metadata": {
    "interpreter": {
     "hash": "31f2aee4e71d21fbe5cf8b01ff0e069b9275f58929596ceb00d14d90e3e16cd6"
    }
   }
  }
 },
 "nbformat": 4,
 "nbformat_minor": 2,
 "cells": [
  {
   "source": [
    "### Eluvio DS Challenge Option 1\n",
    "#### Created by Chun Yin KONG"
   ],
   "cell_type": "markdown",
   "metadata": {}
  },
  {
   "cell_type": "code",
   "execution_count": 2,
   "metadata": {},
   "outputs": [],
   "source": [
    "## Importing modules\n",
    "import pandas as pd\n",
    "import numpy as np"
   ]
  },
  {
   "cell_type": "code",
   "execution_count": 3,
   "metadata": {},
   "outputs": [],
   "source": [
    "## reading data\n",
    "data = pd.read_csv(\"Eluvio_DS_Challenge.csv\")"
   ]
  },
  {
   "source": [
    "### Understanding the data set"
   ],
   "cell_type": "markdown",
   "metadata": {}
  },
  {
   "cell_type": "code",
   "execution_count": 4,
   "metadata": {},
   "outputs": [
    {
     "output_type": "execute_result",
     "data": {
      "text/plain": [
       "   time_created date_created  up_votes  down_votes  \\\n",
       "0    1201232046   2008-01-25         3           0   \n",
       "1    1201232075   2008-01-25         2           0   \n",
       "2    1201232523   2008-01-25         3           0   \n",
       "3    1201233290   2008-01-25         1           0   \n",
       "4    1201274720   2008-01-25         4           0   \n",
       "\n",
       "                                             title  over_18    author  \\\n",
       "0                Scores killed in Pakistan clashes    False     polar   \n",
       "1                 Japan resumes refuelling mission    False     polar   \n",
       "2                  US presses Egypt on Gaza border    False     polar   \n",
       "3     Jump-start economy: Give health care to all     False   fadi420   \n",
       "4  Council of Europe bashes EU&UN terror blacklist    False  mhermans   \n",
       "\n",
       "    category  \n",
       "0  worldnews  \n",
       "1  worldnews  \n",
       "2  worldnews  \n",
       "3  worldnews  \n",
       "4  worldnews  "
      ],
      "text/html": "<div>\n<style scoped>\n    .dataframe tbody tr th:only-of-type {\n        vertical-align: middle;\n    }\n\n    .dataframe tbody tr th {\n        vertical-align: top;\n    }\n\n    .dataframe thead th {\n        text-align: right;\n    }\n</style>\n<table border=\"1\" class=\"dataframe\">\n  <thead>\n    <tr style=\"text-align: right;\">\n      <th></th>\n      <th>time_created</th>\n      <th>date_created</th>\n      <th>up_votes</th>\n      <th>down_votes</th>\n      <th>title</th>\n      <th>over_18</th>\n      <th>author</th>\n      <th>category</th>\n    </tr>\n  </thead>\n  <tbody>\n    <tr>\n      <th>0</th>\n      <td>1201232046</td>\n      <td>2008-01-25</td>\n      <td>3</td>\n      <td>0</td>\n      <td>Scores killed in Pakistan clashes</td>\n      <td>False</td>\n      <td>polar</td>\n      <td>worldnews</td>\n    </tr>\n    <tr>\n      <th>1</th>\n      <td>1201232075</td>\n      <td>2008-01-25</td>\n      <td>2</td>\n      <td>0</td>\n      <td>Japan resumes refuelling mission</td>\n      <td>False</td>\n      <td>polar</td>\n      <td>worldnews</td>\n    </tr>\n    <tr>\n      <th>2</th>\n      <td>1201232523</td>\n      <td>2008-01-25</td>\n      <td>3</td>\n      <td>0</td>\n      <td>US presses Egypt on Gaza border</td>\n      <td>False</td>\n      <td>polar</td>\n      <td>worldnews</td>\n    </tr>\n    <tr>\n      <th>3</th>\n      <td>1201233290</td>\n      <td>2008-01-25</td>\n      <td>1</td>\n      <td>0</td>\n      <td>Jump-start economy: Give health care to all</td>\n      <td>False</td>\n      <td>fadi420</td>\n      <td>worldnews</td>\n    </tr>\n    <tr>\n      <th>4</th>\n      <td>1201274720</td>\n      <td>2008-01-25</td>\n      <td>4</td>\n      <td>0</td>\n      <td>Council of Europe bashes EU&amp;UN terror blacklist</td>\n      <td>False</td>\n      <td>mhermans</td>\n      <td>worldnews</td>\n    </tr>\n  </tbody>\n</table>\n</div>"
     },
     "metadata": {},
     "execution_count": 4
    }
   ],
   "source": [
    "\n",
    "data.head()"
   ]
  },
  {
   "cell_type": "code",
   "execution_count": 5,
   "metadata": {},
   "outputs": [
    {
     "output_type": "execute_result",
     "data": {
      "text/plain": [
       "(509236, 8)"
      ]
     },
     "metadata": {},
     "execution_count": 5
    }
   ],
   "source": [
    "data.shape"
   ]
  },
  {
   "cell_type": "code",
   "execution_count": 7,
   "metadata": {},
   "outputs": [
    {
     "output_type": "execute_result",
     "data": {
      "text/plain": [
       "time_created    False\n",
       "date_created    False\n",
       "up_votes        False\n",
       "down_votes      False\n",
       "title           False\n",
       "over_18         False\n",
       "author          False\n",
       "category        False\n",
       "dtype: bool"
      ]
     },
     "metadata": {},
     "execution_count": 7
    }
   ],
   "source": [
    "data.isnull().any()"
   ]
  },
  {
   "cell_type": "code",
   "execution_count": 27,
   "metadata": {},
   "outputs": [
    {
     "output_type": "stream",
     "name": "stdout",
     "text": [
      "time_created : has unique values\n",
      "date_created : has unique values\n",
      "up_votes : has unique values\n",
      "down_votes : all duplicated values\n",
      "title : has unique values\n",
      "over_18 : has unique values\n",
      "author : has unique values\n",
      "category : all duplicated values\n",
      "['down_votes', 'category']\n"
     ]
    }
   ],
   "source": [
    "col_list = list(data)\n",
    "drop_col_list = []\n",
    "for col_names in col_list:\n",
    "    if len(data[str(col_names)].unique()) - 1 == 0:\n",
    "        print(str(col_names), \": all duplicated values\")\n",
    "        drop_col_list.append(str(col_names))\n",
    "    else:\n",
    "        print(str(col_names), \": has unique values\")"
   ]
  },
  {
   "cell_type": "code",
   "execution_count": 28,
   "metadata": {},
   "outputs": [],
   "source": [
    "data = data.drop(drop_col_list, axis=1)"
   ]
  },
  {
   "cell_type": "code",
   "execution_count": 29,
   "metadata": {},
   "outputs": [
    {
     "output_type": "execute_result",
     "data": {
      "text/plain": [
       "   time_created date_created  up_votes  \\\n",
       "0    1201232046   2008-01-25         3   \n",
       "1    1201232075   2008-01-25         2   \n",
       "2    1201232523   2008-01-25         3   \n",
       "3    1201233290   2008-01-25         1   \n",
       "4    1201274720   2008-01-25         4   \n",
       "\n",
       "                                             title  over_18    author  \n",
       "0                Scores killed in Pakistan clashes    False     polar  \n",
       "1                 Japan resumes refuelling mission    False     polar  \n",
       "2                  US presses Egypt on Gaza border    False     polar  \n",
       "3     Jump-start economy: Give health care to all     False   fadi420  \n",
       "4  Council of Europe bashes EU&UN terror blacklist    False  mhermans  "
      ],
      "text/html": "<div>\n<style scoped>\n    .dataframe tbody tr th:only-of-type {\n        vertical-align: middle;\n    }\n\n    .dataframe tbody tr th {\n        vertical-align: top;\n    }\n\n    .dataframe thead th {\n        text-align: right;\n    }\n</style>\n<table border=\"1\" class=\"dataframe\">\n  <thead>\n    <tr style=\"text-align: right;\">\n      <th></th>\n      <th>time_created</th>\n      <th>date_created</th>\n      <th>up_votes</th>\n      <th>title</th>\n      <th>over_18</th>\n      <th>author</th>\n    </tr>\n  </thead>\n  <tbody>\n    <tr>\n      <th>0</th>\n      <td>1201232046</td>\n      <td>2008-01-25</td>\n      <td>3</td>\n      <td>Scores killed in Pakistan clashes</td>\n      <td>False</td>\n      <td>polar</td>\n    </tr>\n    <tr>\n      <th>1</th>\n      <td>1201232075</td>\n      <td>2008-01-25</td>\n      <td>2</td>\n      <td>Japan resumes refuelling mission</td>\n      <td>False</td>\n      <td>polar</td>\n    </tr>\n    <tr>\n      <th>2</th>\n      <td>1201232523</td>\n      <td>2008-01-25</td>\n      <td>3</td>\n      <td>US presses Egypt on Gaza border</td>\n      <td>False</td>\n      <td>polar</td>\n    </tr>\n    <tr>\n      <th>3</th>\n      <td>1201233290</td>\n      <td>2008-01-25</td>\n      <td>1</td>\n      <td>Jump-start economy: Give health care to all</td>\n      <td>False</td>\n      <td>fadi420</td>\n    </tr>\n    <tr>\n      <th>4</th>\n      <td>1201274720</td>\n      <td>2008-01-25</td>\n      <td>4</td>\n      <td>Council of Europe bashes EU&amp;UN terror blacklist</td>\n      <td>False</td>\n      <td>mhermans</td>\n    </tr>\n  </tbody>\n</table>\n</div>"
     },
     "metadata": {},
     "execution_count": 29
    }
   ],
   "source": [
    "# after dropping all duplicated value's column\n",
    "data.head()"
   ]
  },
  {
   "cell_type": "code",
   "execution_count": null,
   "metadata": {},
   "outputs": [],
   "source": []
  }
 ]
}