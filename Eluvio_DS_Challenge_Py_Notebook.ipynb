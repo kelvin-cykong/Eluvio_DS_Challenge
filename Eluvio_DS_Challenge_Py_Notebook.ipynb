{
 "metadata": {
  "language_info": {
   "codemirror_mode": {
    "name": "ipython",
    "version": 3
   },
   "file_extension": ".py",
   "mimetype": "text/x-python",
   "name": "python",
   "nbconvert_exporter": "python",
   "pygments_lexer": "ipython3",
   "version": "3.8.5-final"
  },
  "orig_nbformat": 2,
  "kernelspec": {
   "name": "python3",
   "display_name": "Python 3.8.5 64-bit",
   "metadata": {
    "interpreter": {
     "hash": "31f2aee4e71d21fbe5cf8b01ff0e069b9275f58929596ceb00d14d90e3e16cd6"
    }
   }
  }
 },
 "nbformat": 4,
 "nbformat_minor": 2,
 "cells": [
  {
   "source": [
    "### Eluvio DS Challenge Option 1\n",
    "#### Created by Chun Yin KONG"
   ],
   "cell_type": "markdown",
   "metadata": {}
  },
  {
   "cell_type": "code",
   "execution_count": 45,
   "metadata": {},
   "outputs": [],
   "source": [
    "## Importing modules\n",
    "import pandas as pd\n",
    "import numpy as np\n",
    "import matplotlib.pyplot as plt\n",
    "import seaborn as sns"
   ]
  },
  {
   "cell_type": "code",
   "execution_count": 46,
   "metadata": {},
   "outputs": [],
   "source": [
    "## reading data\n",
    "data = pd.read_csv(\"Eluvio_DS_Challenge.csv\")"
   ]
  },
  {
   "source": [
    "### Understanding the data set"
   ],
   "cell_type": "markdown",
   "metadata": {}
  },
  {
   "cell_type": "code",
   "execution_count": 47,
   "metadata": {},
   "outputs": [
    {
     "output_type": "execute_result",
     "data": {
      "text/plain": [
       "   time_created date_created  up_votes  down_votes  \\\n",
       "0    1201232046   2008-01-25         3           0   \n",
       "1    1201232075   2008-01-25         2           0   \n",
       "2    1201232523   2008-01-25         3           0   \n",
       "3    1201233290   2008-01-25         1           0   \n",
       "4    1201274720   2008-01-25         4           0   \n",
       "\n",
       "                                             title  over_18    author  \\\n",
       "0                Scores killed in Pakistan clashes    False     polar   \n",
       "1                 Japan resumes refuelling mission    False     polar   \n",
       "2                  US presses Egypt on Gaza border    False     polar   \n",
       "3     Jump-start economy: Give health care to all     False   fadi420   \n",
       "4  Council of Europe bashes EU&UN terror blacklist    False  mhermans   \n",
       "\n",
       "    category  \n",
       "0  worldnews  \n",
       "1  worldnews  \n",
       "2  worldnews  \n",
       "3  worldnews  \n",
       "4  worldnews  "
      ],
      "text/html": "<div>\n<style scoped>\n    .dataframe tbody tr th:only-of-type {\n        vertical-align: middle;\n    }\n\n    .dataframe tbody tr th {\n        vertical-align: top;\n    }\n\n    .dataframe thead th {\n        text-align: right;\n    }\n</style>\n<table border=\"1\" class=\"dataframe\">\n  <thead>\n    <tr style=\"text-align: right;\">\n      <th></th>\n      <th>time_created</th>\n      <th>date_created</th>\n      <th>up_votes</th>\n      <th>down_votes</th>\n      <th>title</th>\n      <th>over_18</th>\n      <th>author</th>\n      <th>category</th>\n    </tr>\n  </thead>\n  <tbody>\n    <tr>\n      <th>0</th>\n      <td>1201232046</td>\n      <td>2008-01-25</td>\n      <td>3</td>\n      <td>0</td>\n      <td>Scores killed in Pakistan clashes</td>\n      <td>False</td>\n      <td>polar</td>\n      <td>worldnews</td>\n    </tr>\n    <tr>\n      <th>1</th>\n      <td>1201232075</td>\n      <td>2008-01-25</td>\n      <td>2</td>\n      <td>0</td>\n      <td>Japan resumes refuelling mission</td>\n      <td>False</td>\n      <td>polar</td>\n      <td>worldnews</td>\n    </tr>\n    <tr>\n      <th>2</th>\n      <td>1201232523</td>\n      <td>2008-01-25</td>\n      <td>3</td>\n      <td>0</td>\n      <td>US presses Egypt on Gaza border</td>\n      <td>False</td>\n      <td>polar</td>\n      <td>worldnews</td>\n    </tr>\n    <tr>\n      <th>3</th>\n      <td>1201233290</td>\n      <td>2008-01-25</td>\n      <td>1</td>\n      <td>0</td>\n      <td>Jump-start economy: Give health care to all</td>\n      <td>False</td>\n      <td>fadi420</td>\n      <td>worldnews</td>\n    </tr>\n    <tr>\n      <th>4</th>\n      <td>1201274720</td>\n      <td>2008-01-25</td>\n      <td>4</td>\n      <td>0</td>\n      <td>Council of Europe bashes EU&amp;UN terror blacklist</td>\n      <td>False</td>\n      <td>mhermans</td>\n      <td>worldnews</td>\n    </tr>\n  </tbody>\n</table>\n</div>"
     },
     "metadata": {},
     "execution_count": 47
    }
   ],
   "source": [
    "data.head()"
   ]
  },
  {
   "cell_type": "code",
   "execution_count": 48,
   "metadata": {},
   "outputs": [
    {
     "output_type": "execute_result",
     "data": {
      "text/plain": [
       "(509236, 8)"
      ]
     },
     "metadata": {},
     "execution_count": 48
    }
   ],
   "source": [
    "data.shape"
   ]
  },
  {
   "cell_type": "code",
   "execution_count": 49,
   "metadata": {},
   "outputs": [
    {
     "output_type": "stream",
     "name": "stdout",
     "text": [
      "<class 'pandas.core.frame.DataFrame'>\nRangeIndex: 509236 entries, 0 to 509235\nData columns (total 8 columns):\n #   Column        Non-Null Count   Dtype \n---  ------        --------------   ----- \n 0   time_created  509236 non-null  int64 \n 1   date_created  509236 non-null  object\n 2   up_votes      509236 non-null  int64 \n 3   down_votes    509236 non-null  int64 \n 4   title         509236 non-null  object\n 5   over_18       509236 non-null  bool  \n 6   author        509236 non-null  object\n 7   category      509236 non-null  object\ndtypes: bool(1), int64(3), object(4)\nmemory usage: 27.7+ MB\n"
     ]
    }
   ],
   "source": [
    "data.info()"
   ]
  },
  {
   "cell_type": "code",
   "execution_count": 50,
   "metadata": {},
   "outputs": [
    {
     "output_type": "execute_result",
     "data": {
      "text/plain": [
       "       time_created       up_votes  down_votes\n",
       "count  5.092360e+05  509236.000000    509236.0\n",
       "mean   1.380240e+09     112.236283         0.0\n",
       "std    7.090436e+07     541.694675         0.0\n",
       "min    1.201232e+09       0.000000         0.0\n",
       "25%    1.341585e+09       1.000000         0.0\n",
       "50%    1.392909e+09       5.000000         0.0\n",
       "75%    1.436527e+09      16.000000         0.0\n",
       "max    1.479817e+09   21253.000000         0.0"
      ],
      "text/html": "<div>\n<style scoped>\n    .dataframe tbody tr th:only-of-type {\n        vertical-align: middle;\n    }\n\n    .dataframe tbody tr th {\n        vertical-align: top;\n    }\n\n    .dataframe thead th {\n        text-align: right;\n    }\n</style>\n<table border=\"1\" class=\"dataframe\">\n  <thead>\n    <tr style=\"text-align: right;\">\n      <th></th>\n      <th>time_created</th>\n      <th>up_votes</th>\n      <th>down_votes</th>\n    </tr>\n  </thead>\n  <tbody>\n    <tr>\n      <th>count</th>\n      <td>5.092360e+05</td>\n      <td>509236.000000</td>\n      <td>509236.0</td>\n    </tr>\n    <tr>\n      <th>mean</th>\n      <td>1.380240e+09</td>\n      <td>112.236283</td>\n      <td>0.0</td>\n    </tr>\n    <tr>\n      <th>std</th>\n      <td>7.090436e+07</td>\n      <td>541.694675</td>\n      <td>0.0</td>\n    </tr>\n    <tr>\n      <th>min</th>\n      <td>1.201232e+09</td>\n      <td>0.000000</td>\n      <td>0.0</td>\n    </tr>\n    <tr>\n      <th>25%</th>\n      <td>1.341585e+09</td>\n      <td>1.000000</td>\n      <td>0.0</td>\n    </tr>\n    <tr>\n      <th>50%</th>\n      <td>1.392909e+09</td>\n      <td>5.000000</td>\n      <td>0.0</td>\n    </tr>\n    <tr>\n      <th>75%</th>\n      <td>1.436527e+09</td>\n      <td>16.000000</td>\n      <td>0.0</td>\n    </tr>\n    <tr>\n      <th>max</th>\n      <td>1.479817e+09</td>\n      <td>21253.000000</td>\n      <td>0.0</td>\n    </tr>\n  </tbody>\n</table>\n</div>"
     },
     "metadata": {},
     "execution_count": 50
    }
   ],
   "source": [
    "data.describe()"
   ]
  },
  {
   "cell_type": "code",
   "execution_count": 51,
   "metadata": {},
   "outputs": [
    {
     "output_type": "execute_result",
     "data": {
      "text/plain": [
       "False    508916\n",
       "True        320\n",
       "Name: over_18, dtype: int64"
      ]
     },
     "metadata": {},
     "execution_count": 51
    }
   ],
   "source": [
    "data['over_18'].value_counts()"
   ]
  },
  {
   "cell_type": "code",
   "execution_count": 52,
   "metadata": {},
   "outputs": [
    {
     "output_type": "execute_result",
     "data": {
      "text/plain": [
       "time_created    False\n",
       "date_created    False\n",
       "up_votes        False\n",
       "down_votes      False\n",
       "title           False\n",
       "over_18         False\n",
       "author          False\n",
       "category        False\n",
       "dtype: bool"
      ]
     },
     "metadata": {},
     "execution_count": 52
    }
   ],
   "source": [
    "data.isnull().any()"
   ]
  },
  {
   "cell_type": "code",
   "execution_count": 53,
   "metadata": {},
   "outputs": [
    {
     "output_type": "stream",
     "name": "stdout",
     "text": [
      "time_created : has unique values\n",
      "date_created : has unique values\n",
      "up_votes : has unique values\n",
      "down_votes : all duplicated values\n",
      "title : has unique values\n",
      "over_18 : has unique values\n",
      "author : has unique values\n",
      "category : all duplicated values\n"
     ]
    }
   ],
   "source": [
    "col_list = list(data)\n",
    "drop_col_list = []\n",
    "for col_names in col_list:\n",
    "    if len(data[str(col_names)].unique()) - 1 == 0:\n",
    "        print(str(col_names), \": all duplicated values\")\n",
    "        drop_col_list.append(str(col_names))\n",
    "    else:\n",
    "        print(str(col_names), \": has unique values\")"
   ]
  },
  {
   "source": [
    "## Data processing"
   ],
   "cell_type": "markdown",
   "metadata": {}
  },
  {
   "cell_type": "code",
   "execution_count": 54,
   "metadata": {},
   "outputs": [],
   "source": [
    "data = data.drop(drop_col_list, axis=1)"
   ]
  },
  {
   "cell_type": "code",
   "execution_count": 55,
   "metadata": {},
   "outputs": [
    {
     "output_type": "execute_result",
     "data": {
      "text/plain": [
       "   time_created date_created  up_votes  \\\n",
       "0    1201232046   2008-01-25         3   \n",
       "1    1201232075   2008-01-25         2   \n",
       "2    1201232523   2008-01-25         3   \n",
       "3    1201233290   2008-01-25         1   \n",
       "4    1201274720   2008-01-25         4   \n",
       "\n",
       "                                             title  over_18    author  \n",
       "0                Scores killed in Pakistan clashes    False     polar  \n",
       "1                 Japan resumes refuelling mission    False     polar  \n",
       "2                  US presses Egypt on Gaza border    False     polar  \n",
       "3     Jump-start economy: Give health care to all     False   fadi420  \n",
       "4  Council of Europe bashes EU&UN terror blacklist    False  mhermans  "
      ],
      "text/html": "<div>\n<style scoped>\n    .dataframe tbody tr th:only-of-type {\n        vertical-align: middle;\n    }\n\n    .dataframe tbody tr th {\n        vertical-align: top;\n    }\n\n    .dataframe thead th {\n        text-align: right;\n    }\n</style>\n<table border=\"1\" class=\"dataframe\">\n  <thead>\n    <tr style=\"text-align: right;\">\n      <th></th>\n      <th>time_created</th>\n      <th>date_created</th>\n      <th>up_votes</th>\n      <th>title</th>\n      <th>over_18</th>\n      <th>author</th>\n    </tr>\n  </thead>\n  <tbody>\n    <tr>\n      <th>0</th>\n      <td>1201232046</td>\n      <td>2008-01-25</td>\n      <td>3</td>\n      <td>Scores killed in Pakistan clashes</td>\n      <td>False</td>\n      <td>polar</td>\n    </tr>\n    <tr>\n      <th>1</th>\n      <td>1201232075</td>\n      <td>2008-01-25</td>\n      <td>2</td>\n      <td>Japan resumes refuelling mission</td>\n      <td>False</td>\n      <td>polar</td>\n    </tr>\n    <tr>\n      <th>2</th>\n      <td>1201232523</td>\n      <td>2008-01-25</td>\n      <td>3</td>\n      <td>US presses Egypt on Gaza border</td>\n      <td>False</td>\n      <td>polar</td>\n    </tr>\n    <tr>\n      <th>3</th>\n      <td>1201233290</td>\n      <td>2008-01-25</td>\n      <td>1</td>\n      <td>Jump-start economy: Give health care to all</td>\n      <td>False</td>\n      <td>fadi420</td>\n    </tr>\n    <tr>\n      <th>4</th>\n      <td>1201274720</td>\n      <td>2008-01-25</td>\n      <td>4</td>\n      <td>Council of Europe bashes EU&amp;UN terror blacklist</td>\n      <td>False</td>\n      <td>mhermans</td>\n    </tr>\n  </tbody>\n</table>\n</div>"
     },
     "metadata": {},
     "execution_count": 55
    }
   ],
   "source": [
    "# after dropping all duplicated value's column\n",
    "data.head()"
   ]
  },
  {
   "source": [
    "## Data Visualization"
   ],
   "cell_type": "markdown",
   "metadata": {}
  },
  {
   "cell_type": "code",
   "execution_count": 33,
   "metadata": {},
   "outputs": [
    {
     "output_type": "error",
     "ename": "TypeError",
     "evalue": "strptime() argument 1 must be str, not Series",
     "traceback": [
      "\u001b[0;31m---------------------------------------------------------------------------\u001b[0m",
      "\u001b[0;31mTypeError\u001b[0m                                 Traceback (most recent call last)",
      "\u001b[0;32m<ipython-input-33-829674d43cd7>\u001b[0m in \u001b[0;36m<module>\u001b[0;34m\u001b[0m\n\u001b[1;32m      1\u001b[0m \u001b[0;32mfrom\u001b[0m \u001b[0mdatetime\u001b[0m \u001b[0;32mimport\u001b[0m \u001b[0mdatetime\u001b[0m\u001b[0;34m\u001b[0m\u001b[0;34m\u001b[0m\u001b[0m\n\u001b[0;32m----> 2\u001b[0;31m \u001b[0mdata\u001b[0m\u001b[0;34m[\u001b[0m\u001b[0;34m'date_created'\u001b[0m\u001b[0;34m]\u001b[0m \u001b[0;34m=\u001b[0m \u001b[0mdatetime\u001b[0m\u001b[0;34m.\u001b[0m\u001b[0mstrptime\u001b[0m\u001b[0;34m(\u001b[0m\u001b[0mdata\u001b[0m\u001b[0;34m[\u001b[0m\u001b[0;34m'date_created'\u001b[0m\u001b[0;34m]\u001b[0m\u001b[0;34m,\u001b[0m \u001b[0;34m\"%y-%m-%d\"\u001b[0m\u001b[0;34m)\u001b[0m\u001b[0;34m\u001b[0m\u001b[0;34m\u001b[0m\u001b[0m\n\u001b[0m",
      "\u001b[0;31mTypeError\u001b[0m: strptime() argument 1 must be str, not Series"
     ]
    }
   ],
   "source": [
    "from datetime import datetime\n",
    "data['date_created'] = datetime.strptime(data['date_created'], \"%y-%m-%d\")"
   ]
  },
  {
   "cell_type": "code",
   "execution_count": 56,
   "metadata": {},
   "outputs": [
    {
     "output_type": "execute_result",
     "data": {
      "text/plain": [
       "Text(5, 100000, '50 Percentile')"
      ]
     },
     "metadata": {},
     "execution_count": 56
    },
    {
     "output_type": "display_data",
     "data": {
      "text/plain": "<Figure size 360x360 with 1 Axes>",
      "image/svg+xml": "<?xml version=\"1.0\" encoding=\"utf-8\" standalone=\"no\"?>\n<!DOCTYPE svg PUBLIC \"-//W3C//DTD SVG 1.1//EN\"\n  \"http://www.w3.org/Graphics/SVG/1.1/DTD/svg11.dtd\">\n<svg height=\"364.871389pt\" version=\"1.1\" viewBox=\"0 0 352.915625 364.871389\" width=\"352.915625pt\" xmlns=\"http://www.w3.org/2000/svg\" xmlns:xlink=\"http://www.w3.org/1999/xlink\">\n <metadata>\n  <rdf:RDF xmlns:cc=\"http://creativecommons.org/ns#\" xmlns:dc=\"http://purl.org/dc/elements/1.1/\" xmlns:rdf=\"http://www.w3.org/1999/02/22-rdf-syntax-ns#\">\n   <cc:Work>\n    <dc:type rdf:resource=\"http://purl.org/dc/dcmitype/StillImage\"/>\n    <dc:date>2021-04-09T00:37:55.183755</dc:date>\n    <dc:format>image/svg+xml</dc:format>\n    <dc:creator>\n     <cc:Agent>\n      <dc:title>Matplotlib v3.4.1, https://matplotlib.org/</dc:title>\n     </cc:Agent>\n    </dc:creator>\n   </cc:Work>\n  </rdf:RDF>\n </metadata>\n <defs>\n  <style type=\"text/css\">*{stroke-linecap:butt;stroke-linejoin:round;}</style>\n </defs>\n <g id=\"figure_1\">\n  <g id=\"patch_1\">\n   <path d=\"M -0 364.871389 \nL 352.915625 364.871389 \nL 352.915625 0 \nL -0 0 \nz\n\" style=\"fill:none;\"/>\n  </g>\n  <g id=\"axes_1\">\n   <g id=\"patch_2\">\n    <path d=\"M 59.690625 327.315139 \nL 345.715625 327.315139 \nL 345.715625 20.321389 \nL 59.690625 20.321389 \nz\n\" style=\"fill:#ffffff;\"/>\n   </g>\n   <g id=\"patch_3\">\n    <path clip-path=\"url(#pbfb19d4088)\" d=\"M 72.691761 327.315139 \nL 73.991875 327.315139 \nL 73.991875 34.940139 \nL 72.691761 34.940139 \nz\n\" style=\"fill:#1f77b4;fill-opacity:0.75;stroke:#000000;stroke-linejoin:miter;stroke-width:0.139812;\"/>\n   </g>\n   <g id=\"patch_4\">\n    <path clip-path=\"url(#pbfb19d4088)\" d=\"M 73.991875 327.315139 \nL 75.291989 327.315139 \nL 75.291989 181.622978 \nL 73.991875 181.622978 \nz\n\" style=\"fill:#1f77b4;fill-opacity:0.75;stroke:#000000;stroke-linejoin:miter;stroke-width:0.139812;\"/>\n   </g>\n   <g id=\"patch_5\">\n    <path clip-path=\"url(#pbfb19d4088)\" d=\"M 75.291989 327.315139 \nL 76.592102 327.315139 \nL 76.592102 327.315139 \nL 75.291989 327.315139 \nz\n\" style=\"fill:#1f77b4;fill-opacity:0.75;stroke:#000000;stroke-linejoin:miter;stroke-width:0.139812;\"/>\n   </g>\n   <g id=\"patch_6\">\n    <path clip-path=\"url(#pbfb19d4088)\" d=\"M 76.592102 327.315139 \nL 77.892216 327.315139 \nL 77.892216 189.198383 \nL 76.592102 189.198383 \nz\n\" style=\"fill:#1f77b4;fill-opacity:0.75;stroke:#000000;stroke-linejoin:miter;stroke-width:0.139812;\"/>\n   </g>\n   <g id=\"patch_7\">\n    <path clip-path=\"url(#pbfb19d4088)\" d=\"M 77.892216 327.315139 \nL 79.19233 327.315139 \nL 79.19233 327.315139 \nL 77.892216 327.315139 \nz\n\" style=\"fill:#1f77b4;fill-opacity:0.75;stroke:#000000;stroke-linejoin:miter;stroke-width:0.139812;\"/>\n   </g>\n   <g id=\"patch_8\">\n    <path clip-path=\"url(#pbfb19d4088)\" d=\"M 79.19233 327.315139 \nL 80.492443 327.315139 \nL 80.492443 214.459108 \nL 79.19233 214.459108 \nz\n\" style=\"fill:#1f77b4;fill-opacity:0.75;stroke:#000000;stroke-linejoin:miter;stroke-width:0.139812;\"/>\n   </g>\n   <g id=\"patch_9\">\n    <path clip-path=\"url(#pbfb19d4088)\" d=\"M 80.492443 327.315139 \nL 81.792557 327.315139 \nL 81.792557 327.315139 \nL 80.492443 327.315139 \nz\n\" style=\"fill:#1f77b4;fill-opacity:0.75;stroke:#000000;stroke-linejoin:miter;stroke-width:0.139812;\"/>\n   </g>\n   <g id=\"patch_10\">\n    <path clip-path=\"url(#pbfb19d4088)\" d=\"M 81.792557 327.315139 \nL 83.09267 327.315139 \nL 83.09267 233.819517 \nL 81.792557 233.819517 \nz\n\" style=\"fill:#1f77b4;fill-opacity:0.75;stroke:#000000;stroke-linejoin:miter;stroke-width:0.139812;\"/>\n   </g>\n   <g id=\"patch_11\">\n    <path clip-path=\"url(#pbfb19d4088)\" d=\"M 83.09267 327.315139 \nL 84.392784 327.315139 \nL 84.392784 247.760887 \nL 83.09267 247.760887 \nz\n\" style=\"fill:#1f77b4;fill-opacity:0.75;stroke:#000000;stroke-linejoin:miter;stroke-width:0.139812;\"/>\n   </g>\n   <g id=\"patch_12\">\n    <path clip-path=\"url(#pbfb19d4088)\" d=\"M 84.392784 327.315139 \nL 85.692898 327.315139 \nL 85.692898 327.315139 \nL 84.392784 327.315139 \nz\n\" style=\"fill:#1f77b4;fill-opacity:0.75;stroke:#000000;stroke-linejoin:miter;stroke-width:0.139812;\"/>\n   </g>\n   <g id=\"patch_13\">\n    <path clip-path=\"url(#pbfb19d4088)\" d=\"M 85.692898 327.315139 \nL 86.993011 327.315139 \nL 86.993011 262.130405 \nL 85.692898 262.130405 \nz\n\" style=\"fill:#1f77b4;fill-opacity:0.75;stroke:#000000;stroke-linejoin:miter;stroke-width:0.139812;\"/>\n   </g>\n   <g id=\"patch_14\">\n    <path clip-path=\"url(#pbfb19d4088)\" d=\"M 86.993011 327.315139 \nL 88.293125 327.315139 \nL 88.293125 327.315139 \nL 86.993011 327.315139 \nz\n\" style=\"fill:#1f77b4;fill-opacity:0.75;stroke:#000000;stroke-linejoin:miter;stroke-width:0.139812;\"/>\n   </g>\n   <g id=\"patch_15\">\n    <path clip-path=\"url(#pbfb19d4088)\" d=\"M 88.293125 327.315139 \nL 89.593239 327.315139 \nL 89.593239 274.318557 \nL 88.293125 274.318557 \nz\n\" style=\"fill:#1f77b4;fill-opacity:0.75;stroke:#000000;stroke-linejoin:miter;stroke-width:0.139812;\"/>\n   </g>\n   <g id=\"patch_16\">\n    <path clip-path=\"url(#pbfb19d4088)\" d=\"M 89.593239 327.315139 \nL 90.893352 327.315139 \nL 90.893352 327.315139 \nL 89.593239 327.315139 \nz\n\" style=\"fill:#1f77b4;fill-opacity:0.75;stroke:#000000;stroke-linejoin:miter;stroke-width:0.139812;\"/>\n   </g>\n   <g id=\"patch_17\">\n    <path clip-path=\"url(#pbfb19d4088)\" d=\"M 90.893352 327.315139 \nL 92.193466 327.315139 \nL 92.193466 283.865942 \nL 90.893352 283.865942 \nz\n\" style=\"fill:#1f77b4;fill-opacity:0.75;stroke:#000000;stroke-linejoin:miter;stroke-width:0.139812;\"/>\n   </g>\n   <g id=\"patch_18\">\n    <path clip-path=\"url(#pbfb19d4088)\" d=\"M 92.193466 327.315139 \nL 93.49358 327.315139 \nL 93.49358 327.315139 \nL 92.193466 327.315139 \nz\n\" style=\"fill:#1f77b4;fill-opacity:0.75;stroke:#000000;stroke-linejoin:miter;stroke-width:0.139812;\"/>\n   </g>\n   <g id=\"patch_19\">\n    <path clip-path=\"url(#pbfb19d4088)\" d=\"M 93.49358 327.315139 \nL 94.793693 327.315139 \nL 94.793693 291.356967 \nL 93.49358 291.356967 \nz\n\" style=\"fill:#1f77b4;fill-opacity:0.75;stroke:#000000;stroke-linejoin:miter;stroke-width:0.139812;\"/>\n   </g>\n   <g id=\"patch_20\">\n    <path clip-path=\"url(#pbfb19d4088)\" d=\"M 94.793693 327.315139 \nL 96.093807 327.315139 \nL 96.093807 297.144777 \nL 94.793693 297.144777 \nz\n\" style=\"fill:#1f77b4;fill-opacity:0.75;stroke:#000000;stroke-linejoin:miter;stroke-width:0.139812;\"/>\n   </g>\n   <g id=\"patch_21\">\n    <path clip-path=\"url(#pbfb19d4088)\" d=\"M 96.093807 327.315139 \nL 97.39392 327.315139 \nL 97.39392 327.315139 \nL 96.093807 327.315139 \nz\n\" style=\"fill:#1f77b4;fill-opacity:0.75;stroke:#000000;stroke-linejoin:miter;stroke-width:0.139812;\"/>\n   </g>\n   <g id=\"patch_22\">\n    <path clip-path=\"url(#pbfb19d4088)\" d=\"M 97.39392 327.315139 \nL 98.694034 327.315139 \nL 98.694034 301.773149 \nL 97.39392 301.773149 \nz\n\" style=\"fill:#1f77b4;fill-opacity:0.75;stroke:#000000;stroke-linejoin:miter;stroke-width:0.139812;\"/>\n   </g>\n   <g id=\"patch_23\">\n    <path clip-path=\"url(#pbfb19d4088)\" d=\"M 98.694034 327.315139 \nL 99.994148 327.315139 \nL 99.994148 327.315139 \nL 98.694034 327.315139 \nz\n\" style=\"fill:#1f77b4;fill-opacity:0.75;stroke:#000000;stroke-linejoin:miter;stroke-width:0.139812;\"/>\n   </g>\n   <g id=\"patch_24\">\n    <path clip-path=\"url(#pbfb19d4088)\" d=\"M 99.994148 327.315139 \nL 101.294261 327.315139 \nL 101.294261 304.738932 \nL 99.994148 304.738932 \nz\n\" style=\"fill:#1f77b4;fill-opacity:0.75;stroke:#000000;stroke-linejoin:miter;stroke-width:0.139812;\"/>\n   </g>\n   <g id=\"patch_25\">\n    <path clip-path=\"url(#pbfb19d4088)\" d=\"M 101.294261 327.315139 \nL 102.594375 327.315139 \nL 102.594375 327.315139 \nL 101.294261 327.315139 \nz\n\" style=\"fill:#1f77b4;fill-opacity:0.75;stroke:#000000;stroke-linejoin:miter;stroke-width:0.139812;\"/>\n   </g>\n   <g id=\"patch_26\">\n    <path clip-path=\"url(#pbfb19d4088)\" d=\"M 102.594375 327.315139 \nL 103.894489 327.315139 \nL 103.894489 307.795346 \nL 102.594375 307.795346 \nz\n\" style=\"fill:#1f77b4;fill-opacity:0.75;stroke:#000000;stroke-linejoin:miter;stroke-width:0.139812;\"/>\n   </g>\n   <g id=\"patch_27\">\n    <path clip-path=\"url(#pbfb19d4088)\" d=\"M 103.894489 327.315139 \nL 105.194602 327.315139 \nL 105.194602 309.754825 \nL 103.894489 309.754825 \nz\n\" style=\"fill:#1f77b4;fill-opacity:0.75;stroke:#000000;stroke-linejoin:miter;stroke-width:0.139812;\"/>\n   </g>\n   <g id=\"patch_28\">\n    <path clip-path=\"url(#pbfb19d4088)\" d=\"M 105.194602 327.315139 \nL 106.494716 327.315139 \nL 106.494716 327.315139 \nL 105.194602 327.315139 \nz\n\" style=\"fill:#1f77b4;fill-opacity:0.75;stroke:#000000;stroke-linejoin:miter;stroke-width:0.139812;\"/>\n   </g>\n   <g id=\"patch_29\">\n    <path clip-path=\"url(#pbfb19d4088)\" d=\"M 106.494716 327.315139 \nL 107.79483 327.315139 \nL 107.79483 311.445541 \nL 106.494716 311.445541 \nz\n\" style=\"fill:#1f77b4;fill-opacity:0.75;stroke:#000000;stroke-linejoin:miter;stroke-width:0.139812;\"/>\n   </g>\n   <g id=\"patch_30\">\n    <path clip-path=\"url(#pbfb19d4088)\" d=\"M 107.79483 327.315139 \nL 109.094943 327.315139 \nL 109.094943 327.315139 \nL 107.79483 327.315139 \nz\n\" style=\"fill:#1f77b4;fill-opacity:0.75;stroke:#000000;stroke-linejoin:miter;stroke-width:0.139812;\"/>\n   </g>\n   <g id=\"patch_31\">\n    <path clip-path=\"url(#pbfb19d4088)\" d=\"M 109.094943 327.315139 \nL 110.395057 327.315139 \nL 110.395057 313.9488 \nL 109.094943 313.9488 \nz\n\" style=\"fill:#1f77b4;fill-opacity:0.75;stroke:#000000;stroke-linejoin:miter;stroke-width:0.139812;\"/>\n   </g>\n   <g id=\"patch_32\">\n    <path clip-path=\"url(#pbfb19d4088)\" d=\"M 110.395057 327.315139 \nL 111.69517 327.315139 \nL 111.69517 327.315139 \nL 110.395057 327.315139 \nz\n\" style=\"fill:#1f77b4;fill-opacity:0.75;stroke:#000000;stroke-linejoin:miter;stroke-width:0.139812;\"/>\n   </g>\n   <g id=\"patch_33\">\n    <path clip-path=\"url(#pbfb19d4088)\" d=\"M 111.69517 327.315139 \nL 112.995284 327.315139 \nL 112.995284 315.098861 \nL 111.69517 315.098861 \nz\n\" style=\"fill:#1f77b4;fill-opacity:0.75;stroke:#000000;stroke-linejoin:miter;stroke-width:0.139812;\"/>\n   </g>\n   <g id=\"patch_34\">\n    <path clip-path=\"url(#pbfb19d4088)\" d=\"M 112.995284 327.315139 \nL 114.295398 327.315139 \nL 114.295398 327.315139 \nL 112.995284 327.315139 \nz\n\" style=\"fill:#1f77b4;fill-opacity:0.75;stroke:#000000;stroke-linejoin:miter;stroke-width:0.139812;\"/>\n   </g>\n   <g id=\"patch_35\">\n    <path clip-path=\"url(#pbfb19d4088)\" d=\"M 114.295398 327.315139 \nL 115.595511 327.315139 \nL 115.595511 315.695768 \nL 114.295398 315.695768 \nz\n\" style=\"fill:#1f77b4;fill-opacity:0.75;stroke:#000000;stroke-linejoin:miter;stroke-width:0.139812;\"/>\n   </g>\n   <g id=\"patch_36\">\n    <path clip-path=\"url(#pbfb19d4088)\" d=\"M 115.595511 327.315139 \nL 116.895625 327.315139 \nL 116.895625 316.995837 \nL 115.595511 316.995837 \nz\n\" style=\"fill:#1f77b4;fill-opacity:0.75;stroke:#000000;stroke-linejoin:miter;stroke-width:0.139812;\"/>\n   </g>\n   <g id=\"patch_37\">\n    <path clip-path=\"url(#pbfb19d4088)\" d=\"M 116.895625 327.315139 \nL 118.195739 327.315139 \nL 118.195739 327.315139 \nL 116.895625 327.315139 \nz\n\" style=\"fill:#1f77b4;fill-opacity:0.75;stroke:#000000;stroke-linejoin:miter;stroke-width:0.139812;\"/>\n   </g>\n   <g id=\"patch_38\">\n    <path clip-path=\"url(#pbfb19d4088)\" d=\"M 118.195739 327.315139 \nL 119.495852 327.315139 \nL 119.495852 317.755253 \nL 118.195739 317.755253 \nz\n\" style=\"fill:#1f77b4;fill-opacity:0.75;stroke:#000000;stroke-linejoin:miter;stroke-width:0.139812;\"/>\n   </g>\n   <g id=\"patch_39\">\n    <path clip-path=\"url(#pbfb19d4088)\" d=\"M 119.495852 327.315139 \nL 120.795966 327.315139 \nL 120.795966 327.315139 \nL 119.495852 327.315139 \nz\n\" style=\"fill:#1f77b4;fill-opacity:0.75;stroke:#000000;stroke-linejoin:miter;stroke-width:0.139812;\"/>\n   </g>\n   <g id=\"patch_40\">\n    <path clip-path=\"url(#pbfb19d4088)\" d=\"M 120.795966 327.315139 \nL 122.09608 327.315139 \nL 122.09608 318.589673 \nL 120.795966 318.589673 \nz\n\" style=\"fill:#1f77b4;fill-opacity:0.75;stroke:#000000;stroke-linejoin:miter;stroke-width:0.139812;\"/>\n   </g>\n   <g id=\"patch_41\">\n    <path clip-path=\"url(#pbfb19d4088)\" d=\"M 122.09608 327.315139 \nL 123.396193 327.315139 \nL 123.396193 327.315139 \nL 122.09608 327.315139 \nz\n\" style=\"fill:#1f77b4;fill-opacity:0.75;stroke:#000000;stroke-linejoin:miter;stroke-width:0.139812;\"/>\n   </g>\n   <g id=\"patch_42\">\n    <path clip-path=\"url(#pbfb19d4088)\" d=\"M 123.396193 327.315139 \nL 124.696307 327.315139 \nL 124.696307 318.970943 \nL 123.396193 318.970943 \nz\n\" style=\"fill:#1f77b4;fill-opacity:0.75;stroke:#000000;stroke-linejoin:miter;stroke-width:0.139812;\"/>\n   </g>\n   <g id=\"patch_43\">\n    <path clip-path=\"url(#pbfb19d4088)\" d=\"M 124.696307 327.315139 \nL 125.99642 327.315139 \nL 125.99642 327.315139 \nL 124.696307 327.315139 \nz\n\" style=\"fill:#1f77b4;fill-opacity:0.75;stroke:#000000;stroke-linejoin:miter;stroke-width:0.139812;\"/>\n   </g>\n   <g id=\"patch_44\">\n    <path clip-path=\"url(#pbfb19d4088)\" d=\"M 125.99642 327.315139 \nL 127.296534 327.315139 \nL 127.296534 319.486596 \nL 125.99642 319.486596 \nz\n\" style=\"fill:#1f77b4;fill-opacity:0.75;stroke:#000000;stroke-linejoin:miter;stroke-width:0.139812;\"/>\n   </g>\n   <g id=\"patch_45\">\n    <path clip-path=\"url(#pbfb19d4088)\" d=\"M 127.296534 327.315139 \nL 128.596648 327.315139 \nL 128.596648 319.714733 \nL 127.296534 319.714733 \nz\n\" style=\"fill:#1f77b4;fill-opacity:0.75;stroke:#000000;stroke-linejoin:miter;stroke-width:0.139812;\"/>\n   </g>\n   <g id=\"patch_46\">\n    <path clip-path=\"url(#pbfb19d4088)\" d=\"M 128.596648 327.315139 \nL 129.896761 327.315139 \nL 129.896761 327.315139 \nL 128.596648 327.315139 \nz\n\" style=\"fill:#1f77b4;fill-opacity:0.75;stroke:#000000;stroke-linejoin:miter;stroke-width:0.139812;\"/>\n   </g>\n   <g id=\"patch_47\">\n    <path clip-path=\"url(#pbfb19d4088)\" d=\"M 129.896761 327.315139 \nL 131.196875 327.315139 \nL 131.196875 320.749163 \nL 129.896761 320.749163 \nz\n\" style=\"fill:#1f77b4;fill-opacity:0.75;stroke:#000000;stroke-linejoin:miter;stroke-width:0.139812;\"/>\n   </g>\n   <g id=\"patch_48\">\n    <path clip-path=\"url(#pbfb19d4088)\" d=\"M 131.196875 327.315139 \nL 132.496989 327.315139 \nL 132.496989 327.315139 \nL 131.196875 327.315139 \nz\n\" style=\"fill:#1f77b4;fill-opacity:0.75;stroke:#000000;stroke-linejoin:miter;stroke-width:0.139812;\"/>\n   </g>\n   <g id=\"patch_49\">\n    <path clip-path=\"url(#pbfb19d4088)\" d=\"M 132.496989 327.315139 \nL 133.797102 327.315139 \nL 133.797102 321.174186 \nL 132.496989 321.174186 \nz\n\" style=\"fill:#1f77b4;fill-opacity:0.75;stroke:#000000;stroke-linejoin:miter;stroke-width:0.139812;\"/>\n   </g>\n   <g id=\"patch_50\">\n    <path clip-path=\"url(#pbfb19d4088)\" d=\"M 133.797102 327.315139 \nL 135.097216 327.315139 \nL 135.097216 327.315139 \nL 133.797102 327.315139 \nz\n\" style=\"fill:#1f77b4;fill-opacity:0.75;stroke:#000000;stroke-linejoin:miter;stroke-width:0.139812;\"/>\n   </g>\n   <g id=\"patch_51\">\n    <path clip-path=\"url(#pbfb19d4088)\" d=\"M 135.097216 327.315139 \nL 136.39733 327.315139 \nL 136.39733 321.521079 \nL 135.097216 321.521079 \nz\n\" style=\"fill:#1f77b4;fill-opacity:0.75;stroke:#000000;stroke-linejoin:miter;stroke-width:0.139812;\"/>\n   </g>\n   <g id=\"patch_52\">\n    <path clip-path=\"url(#pbfb19d4088)\" d=\"M 136.39733 327.315139 \nL 137.697443 327.315139 \nL 137.697443 322.183615 \nL 136.39733 322.183615 \nz\n\" style=\"fill:#1f77b4;fill-opacity:0.75;stroke:#000000;stroke-linejoin:miter;stroke-width:0.139812;\"/>\n   </g>\n   <g id=\"patch_53\">\n    <path clip-path=\"url(#pbfb19d4088)\" d=\"M 137.697443 327.315139 \nL 138.997557 327.315139 \nL 138.997557 327.315139 \nL 137.697443 327.315139 \nz\n\" style=\"fill:#1f77b4;fill-opacity:0.75;stroke:#000000;stroke-linejoin:miter;stroke-width:0.139812;\"/>\n   </g>\n   <g id=\"patch_54\">\n    <path clip-path=\"url(#pbfb19d4088)\" d=\"M 138.997557 327.315139 \nL 140.29767 327.315139 \nL 140.29767 322.405502 \nL 138.997557 322.405502 \nz\n\" style=\"fill:#1f77b4;fill-opacity:0.75;stroke:#000000;stroke-linejoin:miter;stroke-width:0.139812;\"/>\n   </g>\n   <g id=\"patch_55\">\n    <path clip-path=\"url(#pbfb19d4088)\" d=\"M 140.29767 327.315139 \nL 141.597784 327.315139 \nL 141.597784 327.315139 \nL 140.29767 327.315139 \nz\n\" style=\"fill:#1f77b4;fill-opacity:0.75;stroke:#000000;stroke-linejoin:miter;stroke-width:0.139812;\"/>\n   </g>\n   <g id=\"patch_56\">\n    <path clip-path=\"url(#pbfb19d4088)\" d=\"M 141.597784 327.315139 \nL 142.897898 327.315139 \nL 142.897898 322.761771 \nL 141.597784 322.761771 \nz\n\" style=\"fill:#1f77b4;fill-opacity:0.75;stroke:#000000;stroke-linejoin:miter;stroke-width:0.139812;\"/>\n   </g>\n   <g id=\"patch_57\">\n    <path clip-path=\"url(#pbfb19d4088)\" d=\"M 142.897898 327.315139 \nL 144.198011 327.315139 \nL 144.198011 327.315139 \nL 142.897898 327.315139 \nz\n\" style=\"fill:#1f77b4;fill-opacity:0.75;stroke:#000000;stroke-linejoin:miter;stroke-width:0.139812;\"/>\n   </g>\n   <g id=\"patch_58\">\n    <path clip-path=\"url(#pbfb19d4088)\" d=\"M 144.198011 327.315139 \nL 145.498125 327.315139 \nL 145.498125 322.777396 \nL 144.198011 322.777396 \nz\n\" style=\"fill:#1f77b4;fill-opacity:0.75;stroke:#000000;stroke-linejoin:miter;stroke-width:0.139812;\"/>\n   </g>\n   <g id=\"patch_59\">\n    <path clip-path=\"url(#pbfb19d4088)\" d=\"M 145.498125 327.315139 \nL 146.798239 327.315139 \nL 146.798239 327.315139 \nL 145.498125 327.315139 \nz\n\" style=\"fill:#1f77b4;fill-opacity:0.75;stroke:#000000;stroke-linejoin:miter;stroke-width:0.139812;\"/>\n   </g>\n   <g id=\"patch_60\">\n    <path clip-path=\"url(#pbfb19d4088)\" d=\"M 146.798239 327.315139 \nL 148.098352 327.315139 \nL 148.098352 322.952406 \nL 146.798239 322.952406 \nz\n\" style=\"fill:#1f77b4;fill-opacity:0.75;stroke:#000000;stroke-linejoin:miter;stroke-width:0.139812;\"/>\n   </g>\n   <g id=\"patch_61\">\n    <path clip-path=\"url(#pbfb19d4088)\" d=\"M 148.098352 327.315139 \nL 149.398466 327.315139 \nL 149.398466 323.405555 \nL 148.098352 323.405555 \nz\n\" style=\"fill:#1f77b4;fill-opacity:0.75;stroke:#000000;stroke-linejoin:miter;stroke-width:0.139812;\"/>\n   </g>\n   <g id=\"patch_62\">\n    <path clip-path=\"url(#pbfb19d4088)\" d=\"M 149.398466 327.315139 \nL 150.69858 327.315139 \nL 150.69858 327.315139 \nL 149.398466 327.315139 \nz\n\" style=\"fill:#1f77b4;fill-opacity:0.75;stroke:#000000;stroke-linejoin:miter;stroke-width:0.139812;\"/>\n   </g>\n   <g id=\"patch_63\">\n    <path clip-path=\"url(#pbfb19d4088)\" d=\"M 150.69858 327.315139 \nL 151.998693 327.315139 \nL 151.998693 323.436807 \nL 150.69858 323.436807 \nz\n\" style=\"fill:#1f77b4;fill-opacity:0.75;stroke:#000000;stroke-linejoin:miter;stroke-width:0.139812;\"/>\n   </g>\n   <g id=\"patch_64\">\n    <path clip-path=\"url(#pbfb19d4088)\" d=\"M 151.998693 327.315139 \nL 153.298807 327.315139 \nL 153.298807 327.315139 \nL 151.998693 327.315139 \nz\n\" style=\"fill:#1f77b4;fill-opacity:0.75;stroke:#000000;stroke-linejoin:miter;stroke-width:0.139812;\"/>\n   </g>\n   <g id=\"patch_65\">\n    <path clip-path=\"url(#pbfb19d4088)\" d=\"M 153.298807 327.315139 \nL 154.59892 327.315139 \nL 154.59892 323.711821 \nL 153.298807 323.711821 \nz\n\" style=\"fill:#1f77b4;fill-opacity:0.75;stroke:#000000;stroke-linejoin:miter;stroke-width:0.139812;\"/>\n   </g>\n   <g id=\"patch_66\">\n    <path clip-path=\"url(#pbfb19d4088)\" d=\"M 154.59892 327.315139 \nL 155.899034 327.315139 \nL 155.899034 327.315139 \nL 154.59892 327.315139 \nz\n\" style=\"fill:#1f77b4;fill-opacity:0.75;stroke:#000000;stroke-linejoin:miter;stroke-width:0.139812;\"/>\n   </g>\n   <g id=\"patch_67\">\n    <path clip-path=\"url(#pbfb19d4088)\" d=\"M 155.899034 327.315139 \nL 157.199148 327.315139 \nL 157.199148 323.768074 \nL 155.899034 323.768074 \nz\n\" style=\"fill:#1f77b4;fill-opacity:0.75;stroke:#000000;stroke-linejoin:miter;stroke-width:0.139812;\"/>\n   </g>\n   <g id=\"patch_68\">\n    <path clip-path=\"url(#pbfb19d4088)\" d=\"M 157.199148 327.315139 \nL 158.499261 327.315139 \nL 158.499261 327.315139 \nL 157.199148 327.315139 \nz\n\" style=\"fill:#1f77b4;fill-opacity:0.75;stroke:#000000;stroke-linejoin:miter;stroke-width:0.139812;\"/>\n   </g>\n   <g id=\"patch_69\">\n    <path clip-path=\"url(#pbfb19d4088)\" d=\"M 158.499261 327.315139 \nL 159.799375 327.315139 \nL 159.799375 323.652443 \nL 158.499261 323.652443 \nz\n\" style=\"fill:#1f77b4;fill-opacity:0.75;stroke:#000000;stroke-linejoin:miter;stroke-width:0.139812;\"/>\n   </g>\n   <g id=\"patch_70\">\n    <path clip-path=\"url(#pbfb19d4088)\" d=\"M 159.799375 327.315139 \nL 161.099489 327.315139 \nL 161.099489 324.06184 \nL 159.799375 324.06184 \nz\n\" style=\"fill:#1f77b4;fill-opacity:0.75;stroke:#000000;stroke-linejoin:miter;stroke-width:0.139812;\"/>\n   </g>\n   <g id=\"patch_71\">\n    <path clip-path=\"url(#pbfb19d4088)\" d=\"M 161.099489 327.315139 \nL 162.399602 327.315139 \nL 162.399602 327.315139 \nL 161.099489 327.315139 \nz\n\" style=\"fill:#1f77b4;fill-opacity:0.75;stroke:#000000;stroke-linejoin:miter;stroke-width:0.139812;\"/>\n   </g>\n   <g id=\"patch_72\">\n    <path clip-path=\"url(#pbfb19d4088)\" d=\"M 162.399602 327.315139 \nL 163.699716 327.315139 \nL 163.699716 323.986836 \nL 162.399602 323.986836 \nz\n\" style=\"fill:#1f77b4;fill-opacity:0.75;stroke:#000000;stroke-linejoin:miter;stroke-width:0.139812;\"/>\n   </g>\n   <g id=\"patch_73\">\n    <path clip-path=\"url(#pbfb19d4088)\" d=\"M 163.699716 327.315139 \nL 164.99983 327.315139 \nL 164.99983 327.315139 \nL 163.699716 327.315139 \nz\n\" style=\"fill:#1f77b4;fill-opacity:0.75;stroke:#000000;stroke-linejoin:miter;stroke-width:0.139812;\"/>\n   </g>\n   <g id=\"patch_74\">\n    <path clip-path=\"url(#pbfb19d4088)\" d=\"M 164.99983 327.315139 \nL 166.299943 327.315139 \nL 166.299943 324.239975 \nL 164.99983 324.239975 \nz\n\" style=\"fill:#1f77b4;fill-opacity:0.75;stroke:#000000;stroke-linejoin:miter;stroke-width:0.139812;\"/>\n   </g>\n   <g id=\"patch_75\">\n    <path clip-path=\"url(#pbfb19d4088)\" d=\"M 166.299943 327.315139 \nL 167.600057 327.315139 \nL 167.600057 327.315139 \nL 166.299943 327.315139 \nz\n\" style=\"fill:#1f77b4;fill-opacity:0.75;stroke:#000000;stroke-linejoin:miter;stroke-width:0.139812;\"/>\n   </g>\n   <g id=\"patch_76\">\n    <path clip-path=\"url(#pbfb19d4088)\" d=\"M 167.600057 327.315139 \nL 168.90017 327.315139 \nL 168.90017 324.43686 \nL 167.600057 324.43686 \nz\n\" style=\"fill:#1f77b4;fill-opacity:0.75;stroke:#000000;stroke-linejoin:miter;stroke-width:0.139812;\"/>\n   </g>\n   <g id=\"patch_77\">\n    <path clip-path=\"url(#pbfb19d4088)\" d=\"M 168.90017 327.315139 \nL 170.200284 327.315139 \nL 170.200284 324.586868 \nL 168.90017 324.586868 \nz\n\" style=\"fill:#1f77b4;fill-opacity:0.75;stroke:#000000;stroke-linejoin:miter;stroke-width:0.139812;\"/>\n   </g>\n   <g id=\"patch_78\">\n    <path clip-path=\"url(#pbfb19d4088)\" d=\"M 170.200284 327.315139 \nL 171.500398 327.315139 \nL 171.500398 327.315139 \nL 170.200284 327.315139 \nz\n\" style=\"fill:#1f77b4;fill-opacity:0.75;stroke:#000000;stroke-linejoin:miter;stroke-width:0.139812;\"/>\n   </g>\n   <g id=\"patch_79\">\n    <path clip-path=\"url(#pbfb19d4088)\" d=\"M 171.500398 327.315139 \nL 172.800511 327.315139 \nL 172.800511 324.464987 \nL 171.500398 324.464987 \nz\n\" style=\"fill:#1f77b4;fill-opacity:0.75;stroke:#000000;stroke-linejoin:miter;stroke-width:0.139812;\"/>\n   </g>\n   <g id=\"patch_80\">\n    <path clip-path=\"url(#pbfb19d4088)\" d=\"M 172.800511 327.315139 \nL 174.100625 327.315139 \nL 174.100625 327.315139 \nL 172.800511 327.315139 \nz\n\" style=\"fill:#1f77b4;fill-opacity:0.75;stroke:#000000;stroke-linejoin:miter;stroke-width:0.139812;\"/>\n   </g>\n   <g id=\"patch_81\">\n    <path clip-path=\"url(#pbfb19d4088)\" d=\"M 174.100625 327.315139 \nL 175.400739 327.315139 \nL 175.400739 324.783754 \nL 174.100625 324.783754 \nz\n\" style=\"fill:#1f77b4;fill-opacity:0.75;stroke:#000000;stroke-linejoin:miter;stroke-width:0.139812;\"/>\n   </g>\n   <g id=\"patch_82\">\n    <path clip-path=\"url(#pbfb19d4088)\" d=\"M 175.400739 327.315139 \nL 176.700852 327.315139 \nL 176.700852 327.315139 \nL 175.400739 327.315139 \nz\n\" style=\"fill:#1f77b4;fill-opacity:0.75;stroke:#000000;stroke-linejoin:miter;stroke-width:0.139812;\"/>\n   </g>\n   <g id=\"patch_83\">\n    <path clip-path=\"url(#pbfb19d4088)\" d=\"M 176.700852 327.315139 \nL 178.000966 327.315139 \nL 178.000966 324.836881 \nL 176.700852 324.836881 \nz\n\" style=\"fill:#1f77b4;fill-opacity:0.75;stroke:#000000;stroke-linejoin:miter;stroke-width:0.139812;\"/>\n   </g>\n   <g id=\"patch_84\">\n    <path clip-path=\"url(#pbfb19d4088)\" d=\"M 178.000966 327.315139 \nL 179.30108 327.315139 \nL 179.30108 327.315139 \nL 178.000966 327.315139 \nz\n\" style=\"fill:#1f77b4;fill-opacity:0.75;stroke:#000000;stroke-linejoin:miter;stroke-width:0.139812;\"/>\n   </g>\n   <g id=\"patch_85\">\n    <path clip-path=\"url(#pbfb19d4088)\" d=\"M 179.30108 327.315139 \nL 180.601193 327.315139 \nL 180.601193 324.940012 \nL 179.30108 324.940012 \nz\n\" style=\"fill:#1f77b4;fill-opacity:0.75;stroke:#000000;stroke-linejoin:miter;stroke-width:0.139812;\"/>\n   </g>\n   <g id=\"patch_86\">\n    <path clip-path=\"url(#pbfb19d4088)\" d=\"M 180.601193 327.315139 \nL 181.901307 327.315139 \nL 181.901307 324.974389 \nL 180.601193 324.974389 \nz\n\" style=\"fill:#1f77b4;fill-opacity:0.75;stroke:#000000;stroke-linejoin:miter;stroke-width:0.139812;\"/>\n   </g>\n   <g id=\"patch_87\">\n    <path clip-path=\"url(#pbfb19d4088)\" d=\"M 181.901307 327.315139 \nL 183.20142 327.315139 \nL 183.20142 327.315139 \nL 181.901307 327.315139 \nz\n\" style=\"fill:#1f77b4;fill-opacity:0.75;stroke:#000000;stroke-linejoin:miter;stroke-width:0.139812;\"/>\n   </g>\n   <g id=\"patch_88\">\n    <path clip-path=\"url(#pbfb19d4088)\" d=\"M 183.20142 327.315139 \nL 184.501534 327.315139 \nL 184.501534 324.952513 \nL 183.20142 324.952513 \nz\n\" style=\"fill:#1f77b4;fill-opacity:0.75;stroke:#000000;stroke-linejoin:miter;stroke-width:0.139812;\"/>\n   </g>\n   <g id=\"patch_89\">\n    <path clip-path=\"url(#pbfb19d4088)\" d=\"M 184.501534 327.315139 \nL 185.801648 327.315139 \nL 185.801648 327.315139 \nL 184.501534 327.315139 \nz\n\" style=\"fill:#1f77b4;fill-opacity:0.75;stroke:#000000;stroke-linejoin:miter;stroke-width:0.139812;\"/>\n   </g>\n   <g id=\"patch_90\">\n    <path clip-path=\"url(#pbfb19d4088)\" d=\"M 185.801648 327.315139 \nL 187.101761 327.315139 \nL 187.101761 325.018141 \nL 185.801648 325.018141 \nz\n\" style=\"fill:#1f77b4;fill-opacity:0.75;stroke:#000000;stroke-linejoin:miter;stroke-width:0.139812;\"/>\n   </g>\n   <g id=\"patch_91\">\n    <path clip-path=\"url(#pbfb19d4088)\" d=\"M 187.101761 327.315139 \nL 188.401875 327.315139 \nL 188.401875 327.315139 \nL 187.101761 327.315139 \nz\n\" style=\"fill:#1f77b4;fill-opacity:0.75;stroke:#000000;stroke-linejoin:miter;stroke-width:0.139812;\"/>\n   </g>\n   <g id=\"patch_92\">\n    <path clip-path=\"url(#pbfb19d4088)\" d=\"M 188.401875 327.315139 \nL 189.701989 327.315139 \nL 189.701989 325.205651 \nL 188.401875 325.205651 \nz\n\" style=\"fill:#1f77b4;fill-opacity:0.75;stroke:#000000;stroke-linejoin:miter;stroke-width:0.139812;\"/>\n   </g>\n   <g id=\"patch_93\">\n    <path clip-path=\"url(#pbfb19d4088)\" d=\"M 189.701989 327.315139 \nL 191.002102 327.315139 \nL 191.002102 327.315139 \nL 189.701989 327.315139 \nz\n\" style=\"fill:#1f77b4;fill-opacity:0.75;stroke:#000000;stroke-linejoin:miter;stroke-width:0.139812;\"/>\n   </g>\n   <g id=\"patch_94\">\n    <path clip-path=\"url(#pbfb19d4088)\" d=\"M 191.002102 327.315139 \nL 192.302216 327.315139 \nL 192.302216 325.121272 \nL 191.002102 325.121272 \nz\n\" style=\"fill:#1f77b4;fill-opacity:0.75;stroke:#000000;stroke-linejoin:miter;stroke-width:0.139812;\"/>\n   </g>\n   <g id=\"patch_95\">\n    <path clip-path=\"url(#pbfb19d4088)\" d=\"M 192.302216 327.315139 \nL 193.60233 327.315139 \nL 193.60233 325.311907 \nL 192.302216 325.311907 \nz\n\" style=\"fill:#1f77b4;fill-opacity:0.75;stroke:#000000;stroke-linejoin:miter;stroke-width:0.139812;\"/>\n   </g>\n   <g id=\"patch_96\">\n    <path clip-path=\"url(#pbfb19d4088)\" d=\"M 193.60233 327.315139 \nL 194.902443 327.315139 \nL 194.902443 327.315139 \nL 193.60233 327.315139 \nz\n\" style=\"fill:#1f77b4;fill-opacity:0.75;stroke:#000000;stroke-linejoin:miter;stroke-width:0.139812;\"/>\n   </g>\n   <g id=\"patch_97\">\n    <path clip-path=\"url(#pbfb19d4088)\" d=\"M 194.902443 327.315139 \nL 196.202557 327.315139 \nL 196.202557 325.352534 \nL 194.902443 325.352534 \nz\n\" style=\"fill:#1f77b4;fill-opacity:0.75;stroke:#000000;stroke-linejoin:miter;stroke-width:0.139812;\"/>\n   </g>\n   <g id=\"patch_98\">\n    <path clip-path=\"url(#pbfb19d4088)\" d=\"M 196.202557 327.315139 \nL 197.50267 327.315139 \nL 197.50267 327.315139 \nL 196.202557 327.315139 \nz\n\" style=\"fill:#1f77b4;fill-opacity:0.75;stroke:#000000;stroke-linejoin:miter;stroke-width:0.139812;\"/>\n   </g>\n   <g id=\"patch_99\">\n    <path clip-path=\"url(#pbfb19d4088)\" d=\"M 197.50267 327.315139 \nL 198.802784 327.315139 \nL 198.802784 325.311907 \nL 197.50267 325.311907 \nz\n\" style=\"fill:#1f77b4;fill-opacity:0.75;stroke:#000000;stroke-linejoin:miter;stroke-width:0.139812;\"/>\n   </g>\n   <g id=\"patch_100\">\n    <path clip-path=\"url(#pbfb19d4088)\" d=\"M 198.802784 327.315139 \nL 200.102898 327.315139 \nL 200.102898 327.315139 \nL 198.802784 327.315139 \nz\n\" style=\"fill:#1f77b4;fill-opacity:0.75;stroke:#000000;stroke-linejoin:miter;stroke-width:0.139812;\"/>\n   </g>\n   <g id=\"patch_101\">\n    <path clip-path=\"url(#pbfb19d4088)\" d=\"M 200.102898 327.315139 \nL 201.403011 327.315139 \nL 201.403011 325.358784 \nL 200.102898 325.358784 \nz\n\" style=\"fill:#1f77b4;fill-opacity:0.75;stroke:#000000;stroke-linejoin:miter;stroke-width:0.139812;\"/>\n   </g>\n   <g id=\"patch_102\">\n    <path clip-path=\"url(#pbfb19d4088)\" d=\"M 201.403011 327.315139 \nL 202.703125 327.315139 \nL 202.703125 325.515043 \nL 201.403011 325.515043 \nz\n\" style=\"fill:#1f77b4;fill-opacity:0.75;stroke:#000000;stroke-linejoin:miter;stroke-width:0.139812;\"/>\n   </g>\n   <g id=\"patch_103\">\n    <path clip-path=\"url(#pbfb19d4088)\" d=\"M 202.703125 327.315139 \nL 204.003239 327.315139 \nL 204.003239 327.315139 \nL 202.703125 327.315139 \nz\n\" style=\"fill:#1f77b4;fill-opacity:0.75;stroke:#000000;stroke-linejoin:miter;stroke-width:0.139812;\"/>\n   </g>\n   <g id=\"patch_104\">\n    <path clip-path=\"url(#pbfb19d4088)\" d=\"M 204.003239 327.315139 \nL 205.303352 327.315139 \nL 205.303352 325.480666 \nL 204.003239 325.480666 \nz\n\" style=\"fill:#1f77b4;fill-opacity:0.75;stroke:#000000;stroke-linejoin:miter;stroke-width:0.139812;\"/>\n   </g>\n   <g id=\"patch_105\">\n    <path clip-path=\"url(#pbfb19d4088)\" d=\"M 205.303352 327.315139 \nL 206.603466 327.315139 \nL 206.603466 327.315139 \nL 205.303352 327.315139 \nz\n\" style=\"fill:#1f77b4;fill-opacity:0.75;stroke:#000000;stroke-linejoin:miter;stroke-width:0.139812;\"/>\n   </g>\n   <g id=\"patch_106\">\n    <path clip-path=\"url(#pbfb19d4088)\" d=\"M 206.603466 327.315139 \nL 207.90358 327.315139 \nL 207.90358 325.65255 \nL 206.603466 325.65255 \nz\n\" style=\"fill:#1f77b4;fill-opacity:0.75;stroke:#000000;stroke-linejoin:miter;stroke-width:0.139812;\"/>\n   </g>\n   <g id=\"patch_107\">\n    <path clip-path=\"url(#pbfb19d4088)\" d=\"M 207.90358 327.315139 \nL 209.203693 327.315139 \nL 209.203693 327.315139 \nL 207.90358 327.315139 \nz\n\" style=\"fill:#1f77b4;fill-opacity:0.75;stroke:#000000;stroke-linejoin:miter;stroke-width:0.139812;\"/>\n   </g>\n   <g id=\"patch_108\">\n    <path clip-path=\"url(#pbfb19d4088)\" d=\"M 209.203693 327.315139 \nL 210.503807 327.315139 \nL 210.503807 325.727554 \nL 209.203693 325.727554 \nz\n\" style=\"fill:#1f77b4;fill-opacity:0.75;stroke:#000000;stroke-linejoin:miter;stroke-width:0.139812;\"/>\n   </g>\n   <g id=\"patch_109\">\n    <path clip-path=\"url(#pbfb19d4088)\" d=\"M 210.503807 327.315139 \nL 211.80392 327.315139 \nL 211.80392 327.315139 \nL 210.503807 327.315139 \nz\n\" style=\"fill:#1f77b4;fill-opacity:0.75;stroke:#000000;stroke-linejoin:miter;stroke-width:0.139812;\"/>\n   </g>\n   <g id=\"patch_110\">\n    <path clip-path=\"url(#pbfb19d4088)\" d=\"M 211.80392 327.315139 \nL 213.104034 327.315139 \nL 213.104034 325.708803 \nL 211.80392 325.708803 \nz\n\" style=\"fill:#1f77b4;fill-opacity:0.75;stroke:#000000;stroke-linejoin:miter;stroke-width:0.139812;\"/>\n   </g>\n   <g id=\"patch_111\">\n    <path clip-path=\"url(#pbfb19d4088)\" d=\"M 213.104034 327.315139 \nL 214.404148 327.315139 \nL 214.404148 325.758806 \nL 213.104034 325.758806 \nz\n\" style=\"fill:#1f77b4;fill-opacity:0.75;stroke:#000000;stroke-linejoin:miter;stroke-width:0.139812;\"/>\n   </g>\n   <g id=\"patch_112\">\n    <path clip-path=\"url(#pbfb19d4088)\" d=\"M 214.404148 327.315139 \nL 215.704261 327.315139 \nL 215.704261 327.315139 \nL 214.404148 327.315139 \nz\n\" style=\"fill:#1f77b4;fill-opacity:0.75;stroke:#000000;stroke-linejoin:miter;stroke-width:0.139812;\"/>\n   </g>\n   <g id=\"patch_113\">\n    <path clip-path=\"url(#pbfb19d4088)\" d=\"M 215.704261 327.315139 \nL 217.004375 327.315139 \nL 217.004375 325.827559 \nL 215.704261 325.827559 \nz\n\" style=\"fill:#1f77b4;fill-opacity:0.75;stroke:#000000;stroke-linejoin:miter;stroke-width:0.139812;\"/>\n   </g>\n   <g id=\"patch_114\">\n    <path clip-path=\"url(#pbfb19d4088)\" d=\"M 217.004375 327.315139 \nL 218.304489 327.315139 \nL 218.304489 327.315139 \nL 217.004375 327.315139 \nz\n\" style=\"fill:#1f77b4;fill-opacity:0.75;stroke:#000000;stroke-linejoin:miter;stroke-width:0.139812;\"/>\n   </g>\n   <g id=\"patch_115\">\n    <path clip-path=\"url(#pbfb19d4088)\" d=\"M 218.304489 327.315139 \nL 219.604602 327.315139 \nL 219.604602 325.911939 \nL 218.304489 325.911939 \nz\n\" style=\"fill:#1f77b4;fill-opacity:0.75;stroke:#000000;stroke-linejoin:miter;stroke-width:0.139812;\"/>\n   </g>\n   <g id=\"patch_116\">\n    <path clip-path=\"url(#pbfb19d4088)\" d=\"M 219.604602 327.315139 \nL 220.904716 327.315139 \nL 220.904716 327.315139 \nL 219.604602 327.315139 \nz\n\" style=\"fill:#1f77b4;fill-opacity:0.75;stroke:#000000;stroke-linejoin:miter;stroke-width:0.139812;\"/>\n   </g>\n   <g id=\"patch_117\">\n    <path clip-path=\"url(#pbfb19d4088)\" d=\"M 220.904716 327.315139 \nL 222.20483 327.315139 \nL 222.20483 325.896313 \nL 220.904716 325.896313 \nz\n\" style=\"fill:#1f77b4;fill-opacity:0.75;stroke:#000000;stroke-linejoin:miter;stroke-width:0.139812;\"/>\n   </g>\n   <g id=\"patch_118\">\n    <path clip-path=\"url(#pbfb19d4088)\" d=\"M 222.20483 327.315139 \nL 223.504943 327.315139 \nL 223.504943 327.315139 \nL 222.20483 327.315139 \nz\n\" style=\"fill:#1f77b4;fill-opacity:0.75;stroke:#000000;stroke-linejoin:miter;stroke-width:0.139812;\"/>\n   </g>\n   <g id=\"patch_119\">\n    <path clip-path=\"url(#pbfb19d4088)\" d=\"M 223.504943 327.315139 \nL 224.805057 327.315139 \nL 224.805057 325.918189 \nL 223.504943 325.918189 \nz\n\" style=\"fill:#1f77b4;fill-opacity:0.75;stroke:#000000;stroke-linejoin:miter;stroke-width:0.139812;\"/>\n   </g>\n   <g id=\"patch_120\">\n    <path clip-path=\"url(#pbfb19d4088)\" d=\"M 224.805057 327.315139 \nL 226.10517 327.315139 \nL 226.10517 326.065072 \nL 224.805057 326.065072 \nz\n\" style=\"fill:#1f77b4;fill-opacity:0.75;stroke:#000000;stroke-linejoin:miter;stroke-width:0.139812;\"/>\n   </g>\n   <g id=\"patch_121\">\n    <path clip-path=\"url(#pbfb19d4088)\" d=\"M 226.10517 327.315139 \nL 227.405284 327.315139 \nL 227.405284 327.315139 \nL 226.10517 327.315139 \nz\n\" style=\"fill:#1f77b4;fill-opacity:0.75;stroke:#000000;stroke-linejoin:miter;stroke-width:0.139812;\"/>\n   </g>\n   <g id=\"patch_122\">\n    <path clip-path=\"url(#pbfb19d4088)\" d=\"M 227.405284 327.315139 \nL 228.705398 327.315139 \nL 228.705398 326.008819 \nL 227.405284 326.008819 \nz\n\" style=\"fill:#1f77b4;fill-opacity:0.75;stroke:#000000;stroke-linejoin:miter;stroke-width:0.139812;\"/>\n   </g>\n   <g id=\"patch_123\">\n    <path clip-path=\"url(#pbfb19d4088)\" d=\"M 228.705398 327.315139 \nL 230.005511 327.315139 \nL 230.005511 327.315139 \nL 228.705398 327.315139 \nz\n\" style=\"fill:#1f77b4;fill-opacity:0.75;stroke:#000000;stroke-linejoin:miter;stroke-width:0.139812;\"/>\n   </g>\n   <g id=\"patch_124\">\n    <path clip-path=\"url(#pbfb19d4088)\" d=\"M 230.005511 327.315139 \nL 231.305625 327.315139 \nL 231.305625 326.030695 \nL 230.005511 326.030695 \nz\n\" style=\"fill:#1f77b4;fill-opacity:0.75;stroke:#000000;stroke-linejoin:miter;stroke-width:0.139812;\"/>\n   </g>\n   <g id=\"patch_125\">\n    <path clip-path=\"url(#pbfb19d4088)\" d=\"M 231.305625 327.315139 \nL 232.605739 327.315139 \nL 232.605739 327.315139 \nL 231.305625 327.315139 \nz\n\" style=\"fill:#1f77b4;fill-opacity:0.75;stroke:#000000;stroke-linejoin:miter;stroke-width:0.139812;\"/>\n   </g>\n   <g id=\"patch_126\">\n    <path clip-path=\"url(#pbfb19d4088)\" d=\"M 232.605739 327.315139 \nL 233.905852 327.315139 \nL 233.905852 326.055697 \nL 232.605739 326.055697 \nz\n\" style=\"fill:#1f77b4;fill-opacity:0.75;stroke:#000000;stroke-linejoin:miter;stroke-width:0.139812;\"/>\n   </g>\n   <g id=\"patch_127\">\n    <path clip-path=\"url(#pbfb19d4088)\" d=\"M 233.905852 327.315139 \nL 235.205966 327.315139 \nL 235.205966 327.315139 \nL 233.905852 327.315139 \nz\n\" style=\"fill:#1f77b4;fill-opacity:0.75;stroke:#000000;stroke-linejoin:miter;stroke-width:0.139812;\"/>\n   </g>\n   <g id=\"patch_128\">\n    <path clip-path=\"url(#pbfb19d4088)\" d=\"M 235.205966 327.315139 \nL 236.50608 327.315139 \nL 236.50608 326.03382 \nL 235.205966 326.03382 \nz\n\" style=\"fill:#1f77b4;fill-opacity:0.75;stroke:#000000;stroke-linejoin:miter;stroke-width:0.139812;\"/>\n   </g>\n   <g id=\"patch_129\">\n    <path clip-path=\"url(#pbfb19d4088)\" d=\"M 236.50608 327.315139 \nL 237.806193 327.315139 \nL 237.806193 326.093199 \nL 236.50608 326.093199 \nz\n\" style=\"fill:#1f77b4;fill-opacity:0.75;stroke:#000000;stroke-linejoin:miter;stroke-width:0.139812;\"/>\n   </g>\n   <g id=\"patch_130\">\n    <path clip-path=\"url(#pbfb19d4088)\" d=\"M 237.806193 327.315139 \nL 239.106307 327.315139 \nL 239.106307 327.315139 \nL 237.806193 327.315139 \nz\n\" style=\"fill:#1f77b4;fill-opacity:0.75;stroke:#000000;stroke-linejoin:miter;stroke-width:0.139812;\"/>\n   </g>\n   <g id=\"patch_131\">\n    <path clip-path=\"url(#pbfb19d4088)\" d=\"M 239.106307 327.315139 \nL 240.40642 327.315139 \nL 240.40642 326.22133 \nL 239.106307 326.22133 \nz\n\" style=\"fill:#1f77b4;fill-opacity:0.75;stroke:#000000;stroke-linejoin:miter;stroke-width:0.139812;\"/>\n   </g>\n   <g id=\"patch_132\">\n    <path clip-path=\"url(#pbfb19d4088)\" d=\"M 240.40642 327.315139 \nL 241.706534 327.315139 \nL 241.706534 327.315139 \nL 240.40642 327.315139 \nz\n\" style=\"fill:#1f77b4;fill-opacity:0.75;stroke:#000000;stroke-linejoin:miter;stroke-width:0.139812;\"/>\n   </g>\n   <g id=\"patch_133\">\n    <path clip-path=\"url(#pbfb19d4088)\" d=\"M 241.706534 327.315139 \nL 243.006648 327.315139 \nL 243.006648 326.205705 \nL 241.706534 326.205705 \nz\n\" style=\"fill:#1f77b4;fill-opacity:0.75;stroke:#000000;stroke-linejoin:miter;stroke-width:0.139812;\"/>\n   </g>\n   <g id=\"patch_134\">\n    <path clip-path=\"url(#pbfb19d4088)\" d=\"M 243.006648 327.315139 \nL 244.306761 327.315139 \nL 244.306761 327.315139 \nL 243.006648 327.315139 \nz\n\" style=\"fill:#1f77b4;fill-opacity:0.75;stroke:#000000;stroke-linejoin:miter;stroke-width:0.139812;\"/>\n   </g>\n   <g id=\"patch_135\">\n    <path clip-path=\"url(#pbfb19d4088)\" d=\"M 244.306761 327.315139 \nL 245.606875 327.315139 \nL 245.606875 326.271333 \nL 244.306761 326.271333 \nz\n\" style=\"fill:#1f77b4;fill-opacity:0.75;stroke:#000000;stroke-linejoin:miter;stroke-width:0.139812;\"/>\n   </g>\n   <g id=\"patch_136\">\n    <path clip-path=\"url(#pbfb19d4088)\" d=\"M 245.606875 327.315139 \nL 246.906989 327.315139 \nL 246.906989 326.196329 \nL 245.606875 326.196329 \nz\n\" style=\"fill:#1f77b4;fill-opacity:0.75;stroke:#000000;stroke-linejoin:miter;stroke-width:0.139812;\"/>\n   </g>\n   <g id=\"patch_137\">\n    <path clip-path=\"url(#pbfb19d4088)\" d=\"M 246.906989 327.315139 \nL 248.207102 327.315139 \nL 248.207102 327.315139 \nL 246.906989 327.315139 \nz\n\" style=\"fill:#1f77b4;fill-opacity:0.75;stroke:#000000;stroke-linejoin:miter;stroke-width:0.139812;\"/>\n   </g>\n   <g id=\"patch_138\">\n    <path clip-path=\"url(#pbfb19d4088)\" d=\"M 248.207102 327.315139 \nL 249.507216 327.315139 \nL 249.507216 326.249457 \nL 248.207102 326.249457 \nz\n\" style=\"fill:#1f77b4;fill-opacity:0.75;stroke:#000000;stroke-linejoin:miter;stroke-width:0.139812;\"/>\n   </g>\n   <g id=\"patch_139\">\n    <path clip-path=\"url(#pbfb19d4088)\" d=\"M 249.507216 327.315139 \nL 250.80733 327.315139 \nL 250.80733 327.315139 \nL 249.507216 327.315139 \nz\n\" style=\"fill:#1f77b4;fill-opacity:0.75;stroke:#000000;stroke-linejoin:miter;stroke-width:0.139812;\"/>\n   </g>\n   <g id=\"patch_140\">\n    <path clip-path=\"url(#pbfb19d4088)\" d=\"M 250.80733 327.315139 \nL 252.107443 327.315139 \nL 252.107443 326.199454 \nL 250.80733 326.199454 \nz\n\" style=\"fill:#1f77b4;fill-opacity:0.75;stroke:#000000;stroke-linejoin:miter;stroke-width:0.139812;\"/>\n   </g>\n   <g id=\"patch_141\">\n    <path clip-path=\"url(#pbfb19d4088)\" d=\"M 252.107443 327.315139 \nL 253.407557 327.315139 \nL 253.407557 327.315139 \nL 252.107443 327.315139 \nz\n\" style=\"fill:#1f77b4;fill-opacity:0.75;stroke:#000000;stroke-linejoin:miter;stroke-width:0.139812;\"/>\n   </g>\n   <g id=\"patch_142\">\n    <path clip-path=\"url(#pbfb19d4088)\" d=\"M 253.407557 327.315139 \nL 254.70767 327.315139 \nL 254.70767 326.286959 \nL 253.407557 326.286959 \nz\n\" style=\"fill:#1f77b4;fill-opacity:0.75;stroke:#000000;stroke-linejoin:miter;stroke-width:0.139812;\"/>\n   </g>\n   <g id=\"patch_143\">\n    <path clip-path=\"url(#pbfb19d4088)\" d=\"M 254.70767 327.315139 \nL 256.007784 327.315139 \nL 256.007784 327.315139 \nL 254.70767 327.315139 \nz\n\" style=\"fill:#1f77b4;fill-opacity:0.75;stroke:#000000;stroke-linejoin:miter;stroke-width:0.139812;\"/>\n   </g>\n   <g id=\"patch_144\">\n    <path clip-path=\"url(#pbfb19d4088)\" d=\"M 256.007784 327.315139 \nL 257.307898 327.315139 \nL 257.307898 326.174453 \nL 256.007784 326.174453 \nz\n\" style=\"fill:#1f77b4;fill-opacity:0.75;stroke:#000000;stroke-linejoin:miter;stroke-width:0.139812;\"/>\n   </g>\n   <g id=\"patch_145\">\n    <path clip-path=\"url(#pbfb19d4088)\" d=\"M 257.307898 327.315139 \nL 258.608011 327.315139 \nL 258.608011 326.361963 \nL 257.307898 326.361963 \nz\n\" style=\"fill:#1f77b4;fill-opacity:0.75;stroke:#000000;stroke-linejoin:miter;stroke-width:0.139812;\"/>\n   </g>\n   <g id=\"patch_146\">\n    <path clip-path=\"url(#pbfb19d4088)\" d=\"M 258.608011 327.315139 \nL 259.908125 327.315139 \nL 259.908125 327.315139 \nL 258.608011 327.315139 \nz\n\" style=\"fill:#1f77b4;fill-opacity:0.75;stroke:#000000;stroke-linejoin:miter;stroke-width:0.139812;\"/>\n   </g>\n   <g id=\"patch_147\">\n    <path clip-path=\"url(#pbfb19d4088)\" d=\"M 259.908125 327.315139 \nL 261.208239 327.315139 \nL 261.208239 326.380714 \nL 259.908125 326.380714 \nz\n\" style=\"fill:#1f77b4;fill-opacity:0.75;stroke:#000000;stroke-linejoin:miter;stroke-width:0.139812;\"/>\n   </g>\n   <g id=\"patch_148\">\n    <path clip-path=\"url(#pbfb19d4088)\" d=\"M 261.208239 327.315139 \nL 262.508352 327.315139 \nL 262.508352 327.315139 \nL 261.208239 327.315139 \nz\n\" style=\"fill:#1f77b4;fill-opacity:0.75;stroke:#000000;stroke-linejoin:miter;stroke-width:0.139812;\"/>\n   </g>\n   <g id=\"patch_149\">\n    <path clip-path=\"url(#pbfb19d4088)\" d=\"M 262.508352 327.315139 \nL 263.808466 327.315139 \nL 263.808466 326.352587 \nL 262.508352 326.352587 \nz\n\" style=\"fill:#1f77b4;fill-opacity:0.75;stroke:#000000;stroke-linejoin:miter;stroke-width:0.139812;\"/>\n   </g>\n   <g id=\"patch_150\">\n    <path clip-path=\"url(#pbfb19d4088)\" d=\"M 263.808466 327.315139 \nL 265.10858 327.315139 \nL 265.10858 327.315139 \nL 263.808466 327.315139 \nz\n\" style=\"fill:#1f77b4;fill-opacity:0.75;stroke:#000000;stroke-linejoin:miter;stroke-width:0.139812;\"/>\n   </g>\n   <g id=\"patch_151\">\n    <path clip-path=\"url(#pbfb19d4088)\" d=\"M 265.10858 327.315139 \nL 266.408693 327.315139 \nL 266.408693 326.490095 \nL 265.10858 326.490095 \nz\n\" style=\"fill:#1f77b4;fill-opacity:0.75;stroke:#000000;stroke-linejoin:miter;stroke-width:0.139812;\"/>\n   </g>\n   <g id=\"patch_152\">\n    <path clip-path=\"url(#pbfb19d4088)\" d=\"M 266.408693 327.315139 \nL 267.708807 327.315139 \nL 267.708807 326.365088 \nL 266.408693 326.365088 \nz\n\" style=\"fill:#1f77b4;fill-opacity:0.75;stroke:#000000;stroke-linejoin:miter;stroke-width:0.139812;\"/>\n   </g>\n   <g id=\"patch_153\">\n    <path clip-path=\"url(#pbfb19d4088)\" d=\"M 267.708807 327.315139 \nL 269.00892 327.315139 \nL 269.00892 327.315139 \nL 267.708807 327.315139 \nz\n\" style=\"fill:#1f77b4;fill-opacity:0.75;stroke:#000000;stroke-linejoin:miter;stroke-width:0.139812;\"/>\n   </g>\n   <g id=\"patch_154\">\n    <path clip-path=\"url(#pbfb19d4088)\" d=\"M 269.00892 327.315139 \nL 270.309034 327.315139 \nL 270.309034 326.455718 \nL 269.00892 326.455718 \nz\n\" style=\"fill:#1f77b4;fill-opacity:0.75;stroke:#000000;stroke-linejoin:miter;stroke-width:0.139812;\"/>\n   </g>\n   <g id=\"patch_155\">\n    <path clip-path=\"url(#pbfb19d4088)\" d=\"M 270.309034 327.315139 \nL 271.609148 327.315139 \nL 271.609148 327.315139 \nL 270.309034 327.315139 \nz\n\" style=\"fill:#1f77b4;fill-opacity:0.75;stroke:#000000;stroke-linejoin:miter;stroke-width:0.139812;\"/>\n   </g>\n   <g id=\"patch_156\">\n    <path clip-path=\"url(#pbfb19d4088)\" d=\"M 271.609148 327.315139 \nL 272.909261 327.315139 \nL 272.909261 326.452593 \nL 271.609148 326.452593 \nz\n\" style=\"fill:#1f77b4;fill-opacity:0.75;stroke:#000000;stroke-linejoin:miter;stroke-width:0.139812;\"/>\n   </g>\n   <g id=\"patch_157\">\n    <path clip-path=\"url(#pbfb19d4088)\" d=\"M 272.909261 327.315139 \nL 274.209375 327.315139 \nL 274.209375 327.315139 \nL 272.909261 327.315139 \nz\n\" style=\"fill:#1f77b4;fill-opacity:0.75;stroke:#000000;stroke-linejoin:miter;stroke-width:0.139812;\"/>\n   </g>\n   <g id=\"patch_158\">\n    <path clip-path=\"url(#pbfb19d4088)\" d=\"M 274.209375 327.315139 \nL 275.509489 327.315139 \nL 275.509489 326.527597 \nL 274.209375 326.527597 \nz\n\" style=\"fill:#1f77b4;fill-opacity:0.75;stroke:#000000;stroke-linejoin:miter;stroke-width:0.139812;\"/>\n   </g>\n   <g id=\"patch_159\">\n    <path clip-path=\"url(#pbfb19d4088)\" d=\"M 275.509489 327.315139 \nL 276.809602 327.315139 \nL 276.809602 327.315139 \nL 275.509489 327.315139 \nz\n\" style=\"fill:#1f77b4;fill-opacity:0.75;stroke:#000000;stroke-linejoin:miter;stroke-width:0.139812;\"/>\n   </g>\n   <g id=\"patch_160\">\n    <path clip-path=\"url(#pbfb19d4088)\" d=\"M 276.809602 327.315139 \nL 278.109716 327.315139 \nL 278.109716 326.465093 \nL 276.809602 326.465093 \nz\n\" style=\"fill:#1f77b4;fill-opacity:0.75;stroke:#000000;stroke-linejoin:miter;stroke-width:0.139812;\"/>\n   </g>\n   <g id=\"patch_161\">\n    <path clip-path=\"url(#pbfb19d4088)\" d=\"M 278.109716 327.315139 \nL 279.40983 327.315139 \nL 279.40983 326.511971 \nL 278.109716 326.511971 \nz\n\" style=\"fill:#1f77b4;fill-opacity:0.75;stroke:#000000;stroke-linejoin:miter;stroke-width:0.139812;\"/>\n   </g>\n   <g id=\"patch_162\">\n    <path clip-path=\"url(#pbfb19d4088)\" d=\"M 279.40983 327.315139 \nL 280.709943 327.315139 \nL 280.709943 327.315139 \nL 279.40983 327.315139 \nz\n\" style=\"fill:#1f77b4;fill-opacity:0.75;stroke:#000000;stroke-linejoin:miter;stroke-width:0.139812;\"/>\n   </g>\n   <g id=\"patch_163\">\n    <path clip-path=\"url(#pbfb19d4088)\" d=\"M 280.709943 327.315139 \nL 282.010057 327.315139 \nL 282.010057 326.443217 \nL 280.709943 326.443217 \nz\n\" style=\"fill:#1f77b4;fill-opacity:0.75;stroke:#000000;stroke-linejoin:miter;stroke-width:0.139812;\"/>\n   </g>\n   <g id=\"patch_164\">\n    <path clip-path=\"url(#pbfb19d4088)\" d=\"M 282.010057 327.315139 \nL 283.31017 327.315139 \nL 283.31017 327.315139 \nL 282.010057 327.315139 \nz\n\" style=\"fill:#1f77b4;fill-opacity:0.75;stroke:#000000;stroke-linejoin:miter;stroke-width:0.139812;\"/>\n   </g>\n   <g id=\"patch_165\">\n    <path clip-path=\"url(#pbfb19d4088)\" d=\"M 283.31017 327.315139 \nL 284.610284 327.315139 \nL 284.610284 326.49322 \nL 283.31017 326.49322 \nz\n\" style=\"fill:#1f77b4;fill-opacity:0.75;stroke:#000000;stroke-linejoin:miter;stroke-width:0.139812;\"/>\n   </g>\n   <g id=\"patch_166\">\n    <path clip-path=\"url(#pbfb19d4088)\" d=\"M 284.610284 327.315139 \nL 285.910398 327.315139 \nL 285.910398 327.315139 \nL 284.610284 327.315139 \nz\n\" style=\"fill:#1f77b4;fill-opacity:0.75;stroke:#000000;stroke-linejoin:miter;stroke-width:0.139812;\"/>\n   </g>\n   <g id=\"patch_167\">\n    <path clip-path=\"url(#pbfb19d4088)\" d=\"M 285.910398 327.315139 \nL 287.210511 327.315139 \nL 287.210511 326.461968 \nL 285.910398 326.461968 \nz\n\" style=\"fill:#1f77b4;fill-opacity:0.75;stroke:#000000;stroke-linejoin:miter;stroke-width:0.139812;\"/>\n   </g>\n   <g id=\"patch_168\">\n    <path clip-path=\"url(#pbfb19d4088)\" d=\"M 287.210511 327.315139 \nL 288.510625 327.315139 \nL 288.510625 327.315139 \nL 287.210511 327.315139 \nz\n\" style=\"fill:#1f77b4;fill-opacity:0.75;stroke:#000000;stroke-linejoin:miter;stroke-width:0.139812;\"/>\n   </g>\n   <g id=\"patch_169\">\n    <path clip-path=\"url(#pbfb19d4088)\" d=\"M 288.510625 327.315139 \nL 289.810739 327.315139 \nL 289.810739 326.518221 \nL 288.510625 326.518221 \nz\n\" style=\"fill:#1f77b4;fill-opacity:0.75;stroke:#000000;stroke-linejoin:miter;stroke-width:0.139812;\"/>\n   </g>\n   <g id=\"patch_170\">\n    <path clip-path=\"url(#pbfb19d4088)\" d=\"M 289.810739 327.315139 \nL 291.110852 327.315139 \nL 291.110852 326.652603 \nL 289.810739 326.652603 \nz\n\" style=\"fill:#1f77b4;fill-opacity:0.75;stroke:#000000;stroke-linejoin:miter;stroke-width:0.139812;\"/>\n   </g>\n   <g id=\"patch_171\">\n    <path clip-path=\"url(#pbfb19d4088)\" d=\"M 291.110852 327.315139 \nL 292.410966 327.315139 \nL 292.410966 327.315139 \nL 291.110852 327.315139 \nz\n\" style=\"fill:#1f77b4;fill-opacity:0.75;stroke:#000000;stroke-linejoin:miter;stroke-width:0.139812;\"/>\n   </g>\n   <g id=\"patch_172\">\n    <path clip-path=\"url(#pbfb19d4088)\" d=\"M 292.410966 327.315139 \nL 293.71108 327.315139 \nL 293.71108 326.580725 \nL 292.410966 326.580725 \nz\n\" style=\"fill:#1f77b4;fill-opacity:0.75;stroke:#000000;stroke-linejoin:miter;stroke-width:0.139812;\"/>\n   </g>\n   <g id=\"patch_173\">\n    <path clip-path=\"url(#pbfb19d4088)\" d=\"M 293.71108 327.315139 \nL 295.011193 327.315139 \nL 295.011193 327.315139 \nL 293.71108 327.315139 \nz\n\" style=\"fill:#1f77b4;fill-opacity:0.75;stroke:#000000;stroke-linejoin:miter;stroke-width:0.139812;\"/>\n   </g>\n   <g id=\"patch_174\">\n    <path clip-path=\"url(#pbfb19d4088)\" d=\"M 295.011193 327.315139 \nL 296.311307 327.315139 \nL 296.311307 326.724482 \nL 295.011193 326.724482 \nz\n\" style=\"fill:#1f77b4;fill-opacity:0.75;stroke:#000000;stroke-linejoin:miter;stroke-width:0.139812;\"/>\n   </g>\n   <g id=\"patch_175\">\n    <path clip-path=\"url(#pbfb19d4088)\" d=\"M 296.311307 327.315139 \nL 297.61142 327.315139 \nL 297.61142 327.315139 \nL 296.311307 327.315139 \nz\n\" style=\"fill:#1f77b4;fill-opacity:0.75;stroke:#000000;stroke-linejoin:miter;stroke-width:0.139812;\"/>\n   </g>\n   <g id=\"patch_176\">\n    <path clip-path=\"url(#pbfb19d4088)\" d=\"M 297.61142 327.315139 \nL 298.911534 327.315139 \nL 298.911534 326.768235 \nL 297.61142 326.768235 \nz\n\" style=\"fill:#1f77b4;fill-opacity:0.75;stroke:#000000;stroke-linejoin:miter;stroke-width:0.139812;\"/>\n   </g>\n   <g id=\"patch_177\">\n    <path clip-path=\"url(#pbfb19d4088)\" d=\"M 298.911534 327.315139 \nL 300.211648 327.315139 \nL 300.211648 326.593225 \nL 298.911534 326.593225 \nz\n\" style=\"fill:#1f77b4;fill-opacity:0.75;stroke:#000000;stroke-linejoin:miter;stroke-width:0.139812;\"/>\n   </g>\n   <g id=\"patch_178\">\n    <path clip-path=\"url(#pbfb19d4088)\" d=\"M 300.211648 327.315139 \nL 301.511761 327.315139 \nL 301.511761 327.315139 \nL 300.211648 327.315139 \nz\n\" style=\"fill:#1f77b4;fill-opacity:0.75;stroke:#000000;stroke-linejoin:miter;stroke-width:0.139812;\"/>\n   </g>\n   <g id=\"patch_179\">\n    <path clip-path=\"url(#pbfb19d4088)\" d=\"M 301.511761 327.315139 \nL 302.811875 327.315139 \nL 302.811875 326.649478 \nL 301.511761 326.649478 \nz\n\" style=\"fill:#1f77b4;fill-opacity:0.75;stroke:#000000;stroke-linejoin:miter;stroke-width:0.139812;\"/>\n   </g>\n   <g id=\"patch_180\">\n    <path clip-path=\"url(#pbfb19d4088)\" d=\"M 302.811875 327.315139 \nL 304.111989 327.315139 \nL 304.111989 327.315139 \nL 302.811875 327.315139 \nz\n\" style=\"fill:#1f77b4;fill-opacity:0.75;stroke:#000000;stroke-linejoin:miter;stroke-width:0.139812;\"/>\n   </g>\n   <g id=\"patch_181\">\n    <path clip-path=\"url(#pbfb19d4088)\" d=\"M 304.111989 327.315139 \nL 305.412102 327.315139 \nL 305.412102 326.746359 \nL 304.111989 326.746359 \nz\n\" style=\"fill:#1f77b4;fill-opacity:0.75;stroke:#000000;stroke-linejoin:miter;stroke-width:0.139812;\"/>\n   </g>\n   <g id=\"patch_182\">\n    <path clip-path=\"url(#pbfb19d4088)\" d=\"M 305.412102 327.315139 \nL 306.712216 327.315139 \nL 306.712216 327.315139 \nL 305.412102 327.315139 \nz\n\" style=\"fill:#1f77b4;fill-opacity:0.75;stroke:#000000;stroke-linejoin:miter;stroke-width:0.139812;\"/>\n   </g>\n   <g id=\"patch_183\">\n    <path clip-path=\"url(#pbfb19d4088)\" d=\"M 306.712216 327.315139 \nL 308.01233 327.315139 \nL 308.01233 326.558848 \nL 306.712216 326.558848 \nz\n\" style=\"fill:#1f77b4;fill-opacity:0.75;stroke:#000000;stroke-linejoin:miter;stroke-width:0.139812;\"/>\n   </g>\n   <g id=\"patch_184\">\n    <path clip-path=\"url(#pbfb19d4088)\" d=\"M 308.01233 327.315139 \nL 309.312443 327.315139 \nL 309.312443 327.315139 \nL 308.01233 327.315139 \nz\n\" style=\"fill:#1f77b4;fill-opacity:0.75;stroke:#000000;stroke-linejoin:miter;stroke-width:0.139812;\"/>\n   </g>\n   <g id=\"patch_185\">\n    <path clip-path=\"url(#pbfb19d4088)\" d=\"M 309.312443 327.315139 \nL 310.612557 327.315139 \nL 310.612557 326.699481 \nL 309.312443 326.699481 \nz\n\" style=\"fill:#1f77b4;fill-opacity:0.75;stroke:#000000;stroke-linejoin:miter;stroke-width:0.139812;\"/>\n   </g>\n   <g id=\"patch_186\">\n    <path clip-path=\"url(#pbfb19d4088)\" d=\"M 310.612557 327.315139 \nL 311.91267 327.315139 \nL 311.91267 326.724482 \nL 310.612557 326.724482 \nz\n\" style=\"fill:#1f77b4;fill-opacity:0.75;stroke:#000000;stroke-linejoin:miter;stroke-width:0.139812;\"/>\n   </g>\n   <g id=\"patch_187\">\n    <path clip-path=\"url(#pbfb19d4088)\" d=\"M 311.91267 327.315139 \nL 313.212784 327.315139 \nL 313.212784 327.315139 \nL 311.91267 327.315139 \nz\n\" style=\"fill:#1f77b4;fill-opacity:0.75;stroke:#000000;stroke-linejoin:miter;stroke-width:0.139812;\"/>\n   </g>\n   <g id=\"patch_188\">\n    <path clip-path=\"url(#pbfb19d4088)\" d=\"M 313.212784 327.315139 \nL 314.512898 327.315139 \nL 314.512898 326.655729 \nL 313.212784 326.655729 \nz\n\" style=\"fill:#1f77b4;fill-opacity:0.75;stroke:#000000;stroke-linejoin:miter;stroke-width:0.139812;\"/>\n   </g>\n   <g id=\"patch_189\">\n    <path clip-path=\"url(#pbfb19d4088)\" d=\"M 314.512898 327.315139 \nL 315.813011 327.315139 \nL 315.813011 327.315139 \nL 314.512898 327.315139 \nz\n\" style=\"fill:#1f77b4;fill-opacity:0.75;stroke:#000000;stroke-linejoin:miter;stroke-width:0.139812;\"/>\n   </g>\n   <g id=\"patch_190\">\n    <path clip-path=\"url(#pbfb19d4088)\" d=\"M 315.813011 327.315139 \nL 317.113125 327.315139 \nL 317.113125 326.733858 \nL 315.813011 326.733858 \nz\n\" style=\"fill:#1f77b4;fill-opacity:0.75;stroke:#000000;stroke-linejoin:miter;stroke-width:0.139812;\"/>\n   </g>\n   <g id=\"patch_191\">\n    <path clip-path=\"url(#pbfb19d4088)\" d=\"M 317.113125 327.315139 \nL 318.413239 327.315139 \nL 318.413239 327.315139 \nL 317.113125 327.315139 \nz\n\" style=\"fill:#1f77b4;fill-opacity:0.75;stroke:#000000;stroke-linejoin:miter;stroke-width:0.139812;\"/>\n   </g>\n   <g id=\"patch_192\">\n    <path clip-path=\"url(#pbfb19d4088)\" d=\"M 318.413239 327.315139 \nL 319.713352 327.315139 \nL 319.713352 326.693231 \nL 318.413239 326.693231 \nz\n\" style=\"fill:#1f77b4;fill-opacity:0.75;stroke:#000000;stroke-linejoin:miter;stroke-width:0.139812;\"/>\n   </g>\n   <g id=\"patch_193\">\n    <path clip-path=\"url(#pbfb19d4088)\" d=\"M 319.713352 327.315139 \nL 321.013466 327.315139 \nL 321.013466 327.315139 \nL 319.713352 327.315139 \nz\n\" style=\"fill:#1f77b4;fill-opacity:0.75;stroke:#000000;stroke-linejoin:miter;stroke-width:0.139812;\"/>\n   </g>\n   <g id=\"patch_194\">\n    <path clip-path=\"url(#pbfb19d4088)\" d=\"M 321.013466 327.315139 \nL 322.31358 327.315139 \nL 322.31358 326.733858 \nL 321.013466 326.733858 \nz\n\" style=\"fill:#1f77b4;fill-opacity:0.75;stroke:#000000;stroke-linejoin:miter;stroke-width:0.139812;\"/>\n   </g>\n   <g id=\"patch_195\">\n    <path clip-path=\"url(#pbfb19d4088)\" d=\"M 322.31358 327.315139 \nL 323.613693 327.315139 \nL 323.613693 326.752609 \nL 322.31358 326.752609 \nz\n\" style=\"fill:#1f77b4;fill-opacity:0.75;stroke:#000000;stroke-linejoin:miter;stroke-width:0.139812;\"/>\n   </g>\n   <g id=\"patch_196\">\n    <path clip-path=\"url(#pbfb19d4088)\" d=\"M 323.613693 327.315139 \nL 324.913807 327.315139 \nL 324.913807 327.315139 \nL 323.613693 327.315139 \nz\n\" style=\"fill:#1f77b4;fill-opacity:0.75;stroke:#000000;stroke-linejoin:miter;stroke-width:0.139812;\"/>\n   </g>\n   <g id=\"patch_197\">\n    <path clip-path=\"url(#pbfb19d4088)\" d=\"M 324.913807 327.315139 \nL 326.21392 327.315139 \nL 326.21392 326.708857 \nL 324.913807 326.708857 \nz\n\" style=\"fill:#1f77b4;fill-opacity:0.75;stroke:#000000;stroke-linejoin:miter;stroke-width:0.139812;\"/>\n   </g>\n   <g id=\"patch_198\">\n    <path clip-path=\"url(#pbfb19d4088)\" d=\"M 326.21392 327.315139 \nL 327.514034 327.315139 \nL 327.514034 327.315139 \nL 326.21392 327.315139 \nz\n\" style=\"fill:#1f77b4;fill-opacity:0.75;stroke:#000000;stroke-linejoin:miter;stroke-width:0.139812;\"/>\n   </g>\n   <g id=\"patch_199\">\n    <path clip-path=\"url(#pbfb19d4088)\" d=\"M 327.514034 327.315139 \nL 328.814148 327.315139 \nL 328.814148 326.683855 \nL 327.514034 326.683855 \nz\n\" style=\"fill:#1f77b4;fill-opacity:0.75;stroke:#000000;stroke-linejoin:miter;stroke-width:0.139812;\"/>\n   </g>\n   <g id=\"patch_200\">\n    <path clip-path=\"url(#pbfb19d4088)\" d=\"M 328.814148 327.315139 \nL 330.114261 327.315139 \nL 330.114261 327.315139 \nL 328.814148 327.315139 \nz\n\" style=\"fill:#1f77b4;fill-opacity:0.75;stroke:#000000;stroke-linejoin:miter;stroke-width:0.139812;\"/>\n   </g>\n   <g id=\"patch_201\">\n    <path clip-path=\"url(#pbfb19d4088)\" d=\"M 330.114261 327.315139 \nL 331.414375 327.315139 \nL 331.414375 326.802612 \nL 330.114261 326.802612 \nz\n\" style=\"fill:#1f77b4;fill-opacity:0.75;stroke:#000000;stroke-linejoin:miter;stroke-width:0.139812;\"/>\n   </g>\n   <g id=\"patch_202\">\n    <path clip-path=\"url(#pbfb19d4088)\" d=\"M 331.414375 327.315139 \nL 332.714489 327.315139 \nL 332.714489 326.805737 \nL 331.414375 326.805737 \nz\n\" style=\"fill:#1f77b4;fill-opacity:0.75;stroke:#000000;stroke-linejoin:miter;stroke-width:0.139812;\"/>\n   </g>\n   <g id=\"matplotlib.axis_1\">\n    <g id=\"xtick_1\">\n     <g id=\"line2d_1\">\n      <defs>\n       <path d=\"M 0 0 \nL 0 3.5 \n\" id=\"m7d0b5f642f\" style=\"stroke:#000000;stroke-width:0.8;\"/>\n      </defs>\n      <g>\n       <use style=\"stroke:#000000;stroke-width:0.8;\" x=\"72.691761\" xlink:href=\"#m7d0b5f642f\" y=\"327.315139\"/>\n      </g>\n     </g>\n     <g id=\"text_1\">\n      <!-- 0 -->\n      <g transform=\"translate(69.510511 341.913576)scale(0.1 -0.1)\">\n       <defs>\n        <path d=\"M 2034 4250 \nQ 1547 4250 1301 3770 \nQ 1056 3291 1056 2328 \nQ 1056 1369 1301 889 \nQ 1547 409 2034 409 \nQ 2525 409 2770 889 \nQ 3016 1369 3016 2328 \nQ 3016 3291 2770 3770 \nQ 2525 4250 2034 4250 \nz\nM 2034 4750 \nQ 2819 4750 3233 4129 \nQ 3647 3509 3647 2328 \nQ 3647 1150 3233 529 \nQ 2819 -91 2034 -91 \nQ 1250 -91 836 529 \nQ 422 1150 422 2328 \nQ 422 3509 836 4129 \nQ 1250 4750 2034 4750 \nz\n\" id=\"DejaVuSans-30\" transform=\"scale(0.015625)\"/>\n       </defs>\n       <use xlink:href=\"#DejaVuSans-30\"/>\n      </g>\n     </g>\n    </g>\n    <g id=\"xtick_2\">\n     <g id=\"line2d_2\">\n      <g>\n       <use style=\"stroke:#000000;stroke-width:0.8;\" x=\"119.124391\" xlink:href=\"#m7d0b5f642f\" y=\"327.315139\"/>\n      </g>\n     </g>\n     <g id=\"text_2\">\n      <!-- 20 -->\n      <g transform=\"translate(112.761891 341.913576)scale(0.1 -0.1)\">\n       <defs>\n        <path d=\"M 1228 531 \nL 3431 531 \nL 3431 0 \nL 469 0 \nL 469 531 \nQ 828 903 1448 1529 \nQ 2069 2156 2228 2338 \nQ 2531 2678 2651 2914 \nQ 2772 3150 2772 3378 \nQ 2772 3750 2511 3984 \nQ 2250 4219 1831 4219 \nQ 1534 4219 1204 4116 \nQ 875 4013 500 3803 \nL 500 4441 \nQ 881 4594 1212 4672 \nQ 1544 4750 1819 4750 \nQ 2544 4750 2975 4387 \nQ 3406 4025 3406 3419 \nQ 3406 3131 3298 2873 \nQ 3191 2616 2906 2266 \nQ 2828 2175 2409 1742 \nQ 1991 1309 1228 531 \nz\n\" id=\"DejaVuSans-32\" transform=\"scale(0.015625)\"/>\n       </defs>\n       <use xlink:href=\"#DejaVuSans-32\"/>\n       <use x=\"63.623047\" xlink:href=\"#DejaVuSans-30\"/>\n      </g>\n     </g>\n    </g>\n    <g id=\"xtick_3\">\n     <g id=\"line2d_3\">\n      <g>\n       <use style=\"stroke:#000000;stroke-width:0.8;\" x=\"165.557021\" xlink:href=\"#m7d0b5f642f\" y=\"327.315139\"/>\n      </g>\n     </g>\n     <g id=\"text_3\">\n      <!-- 40 -->\n      <g transform=\"translate(159.194521 341.913576)scale(0.1 -0.1)\">\n       <defs>\n        <path d=\"M 2419 4116 \nL 825 1625 \nL 2419 1625 \nL 2419 4116 \nz\nM 2253 4666 \nL 3047 4666 \nL 3047 1625 \nL 3713 1625 \nL 3713 1100 \nL 3047 1100 \nL 3047 0 \nL 2419 0 \nL 2419 1100 \nL 313 1100 \nL 313 1709 \nL 2253 4666 \nz\n\" id=\"DejaVuSans-34\" transform=\"scale(0.015625)\"/>\n       </defs>\n       <use xlink:href=\"#DejaVuSans-34\"/>\n       <use x=\"63.623047\" xlink:href=\"#DejaVuSans-30\"/>\n      </g>\n     </g>\n    </g>\n    <g id=\"xtick_4\">\n     <g id=\"line2d_4\">\n      <g>\n       <use style=\"stroke:#000000;stroke-width:0.8;\" x=\"211.989651\" xlink:href=\"#m7d0b5f642f\" y=\"327.315139\"/>\n      </g>\n     </g>\n     <g id=\"text_4\">\n      <!-- 60 -->\n      <g transform=\"translate(205.627151 341.913576)scale(0.1 -0.1)\">\n       <defs>\n        <path d=\"M 2113 2584 \nQ 1688 2584 1439 2293 \nQ 1191 2003 1191 1497 \nQ 1191 994 1439 701 \nQ 1688 409 2113 409 \nQ 2538 409 2786 701 \nQ 3034 994 3034 1497 \nQ 3034 2003 2786 2293 \nQ 2538 2584 2113 2584 \nz\nM 3366 4563 \nL 3366 3988 \nQ 3128 4100 2886 4159 \nQ 2644 4219 2406 4219 \nQ 1781 4219 1451 3797 \nQ 1122 3375 1075 2522 \nQ 1259 2794 1537 2939 \nQ 1816 3084 2150 3084 \nQ 2853 3084 3261 2657 \nQ 3669 2231 3669 1497 \nQ 3669 778 3244 343 \nQ 2819 -91 2113 -91 \nQ 1303 -91 875 529 \nQ 447 1150 447 2328 \nQ 447 3434 972 4092 \nQ 1497 4750 2381 4750 \nQ 2619 4750 2861 4703 \nQ 3103 4656 3366 4563 \nz\n\" id=\"DejaVuSans-36\" transform=\"scale(0.015625)\"/>\n       </defs>\n       <use xlink:href=\"#DejaVuSans-36\"/>\n       <use x=\"63.623047\" xlink:href=\"#DejaVuSans-30\"/>\n      </g>\n     </g>\n    </g>\n    <g id=\"xtick_5\">\n     <g id=\"line2d_5\">\n      <g>\n       <use style=\"stroke:#000000;stroke-width:0.8;\" x=\"258.422281\" xlink:href=\"#m7d0b5f642f\" y=\"327.315139\"/>\n      </g>\n     </g>\n     <g id=\"text_5\">\n      <!-- 80 -->\n      <g transform=\"translate(252.059781 341.913576)scale(0.1 -0.1)\">\n       <defs>\n        <path d=\"M 2034 2216 \nQ 1584 2216 1326 1975 \nQ 1069 1734 1069 1313 \nQ 1069 891 1326 650 \nQ 1584 409 2034 409 \nQ 2484 409 2743 651 \nQ 3003 894 3003 1313 \nQ 3003 1734 2745 1975 \nQ 2488 2216 2034 2216 \nz\nM 1403 2484 \nQ 997 2584 770 2862 \nQ 544 3141 544 3541 \nQ 544 4100 942 4425 \nQ 1341 4750 2034 4750 \nQ 2731 4750 3128 4425 \nQ 3525 4100 3525 3541 \nQ 3525 3141 3298 2862 \nQ 3072 2584 2669 2484 \nQ 3125 2378 3379 2068 \nQ 3634 1759 3634 1313 \nQ 3634 634 3220 271 \nQ 2806 -91 2034 -91 \nQ 1263 -91 848 271 \nQ 434 634 434 1313 \nQ 434 1759 690 2068 \nQ 947 2378 1403 2484 \nz\nM 1172 3481 \nQ 1172 3119 1398 2916 \nQ 1625 2713 2034 2713 \nQ 2441 2713 2670 2916 \nQ 2900 3119 2900 3481 \nQ 2900 3844 2670 4047 \nQ 2441 4250 2034 4250 \nQ 1625 4250 1398 4047 \nQ 1172 3844 1172 3481 \nz\n\" id=\"DejaVuSans-38\" transform=\"scale(0.015625)\"/>\n       </defs>\n       <use xlink:href=\"#DejaVuSans-38\"/>\n       <use x=\"63.623047\" xlink:href=\"#DejaVuSans-30\"/>\n      </g>\n     </g>\n    </g>\n    <g id=\"xtick_6\">\n     <g id=\"line2d_6\">\n      <g>\n       <use style=\"stroke:#000000;stroke-width:0.8;\" x=\"304.854911\" xlink:href=\"#m7d0b5f642f\" y=\"327.315139\"/>\n      </g>\n     </g>\n     <g id=\"text_6\">\n      <!-- 100 -->\n      <g transform=\"translate(295.311161 341.913576)scale(0.1 -0.1)\">\n       <defs>\n        <path d=\"M 794 531 \nL 1825 531 \nL 1825 4091 \nL 703 3866 \nL 703 4441 \nL 1819 4666 \nL 2450 4666 \nL 2450 531 \nL 3481 531 \nL 3481 0 \nL 794 0 \nL 794 531 \nz\n\" id=\"DejaVuSans-31\" transform=\"scale(0.015625)\"/>\n       </defs>\n       <use xlink:href=\"#DejaVuSans-31\"/>\n       <use x=\"63.623047\" xlink:href=\"#DejaVuSans-30\"/>\n       <use x=\"127.246094\" xlink:href=\"#DejaVuSans-30\"/>\n      </g>\n     </g>\n    </g>\n    <g id=\"text_7\">\n     <!-- up_votes -->\n     <g transform=\"translate(180.2 355.313576)scale(0.1 -0.1)\">\n      <defs>\n       <path d=\"M 544 1381 \nL 544 3500 \nL 1119 3500 \nL 1119 1403 \nQ 1119 906 1312 657 \nQ 1506 409 1894 409 \nQ 2359 409 2629 706 \nQ 2900 1003 2900 1516 \nL 2900 3500 \nL 3475 3500 \nL 3475 0 \nL 2900 0 \nL 2900 538 \nQ 2691 219 2414 64 \nQ 2138 -91 1772 -91 \nQ 1169 -91 856 284 \nQ 544 659 544 1381 \nz\nM 1991 3584 \nL 1991 3584 \nz\n\" id=\"DejaVuSans-75\" transform=\"scale(0.015625)\"/>\n       <path d=\"M 1159 525 \nL 1159 -1331 \nL 581 -1331 \nL 581 3500 \nL 1159 3500 \nL 1159 2969 \nQ 1341 3281 1617 3432 \nQ 1894 3584 2278 3584 \nQ 2916 3584 3314 3078 \nQ 3713 2572 3713 1747 \nQ 3713 922 3314 415 \nQ 2916 -91 2278 -91 \nQ 1894 -91 1617 61 \nQ 1341 213 1159 525 \nz\nM 3116 1747 \nQ 3116 2381 2855 2742 \nQ 2594 3103 2138 3103 \nQ 1681 3103 1420 2742 \nQ 1159 2381 1159 1747 \nQ 1159 1113 1420 752 \nQ 1681 391 2138 391 \nQ 2594 391 2855 752 \nQ 3116 1113 3116 1747 \nz\n\" id=\"DejaVuSans-70\" transform=\"scale(0.015625)\"/>\n       <path d=\"M 3263 -1063 \nL 3263 -1509 \nL -63 -1509 \nL -63 -1063 \nL 3263 -1063 \nz\n\" id=\"DejaVuSans-5f\" transform=\"scale(0.015625)\"/>\n       <path d=\"M 191 3500 \nL 800 3500 \nL 1894 563 \nL 2988 3500 \nL 3597 3500 \nL 2284 0 \nL 1503 0 \nL 191 3500 \nz\n\" id=\"DejaVuSans-76\" transform=\"scale(0.015625)\"/>\n       <path d=\"M 1959 3097 \nQ 1497 3097 1228 2736 \nQ 959 2375 959 1747 \nQ 959 1119 1226 758 \nQ 1494 397 1959 397 \nQ 2419 397 2687 759 \nQ 2956 1122 2956 1747 \nQ 2956 2369 2687 2733 \nQ 2419 3097 1959 3097 \nz\nM 1959 3584 \nQ 2709 3584 3137 3096 \nQ 3566 2609 3566 1747 \nQ 3566 888 3137 398 \nQ 2709 -91 1959 -91 \nQ 1206 -91 779 398 \nQ 353 888 353 1747 \nQ 353 2609 779 3096 \nQ 1206 3584 1959 3584 \nz\n\" id=\"DejaVuSans-6f\" transform=\"scale(0.015625)\"/>\n       <path d=\"M 1172 4494 \nL 1172 3500 \nL 2356 3500 \nL 2356 3053 \nL 1172 3053 \nL 1172 1153 \nQ 1172 725 1289 603 \nQ 1406 481 1766 481 \nL 2356 481 \nL 2356 0 \nL 1766 0 \nQ 1100 0 847 248 \nQ 594 497 594 1153 \nL 594 3053 \nL 172 3053 \nL 172 3500 \nL 594 3500 \nL 594 4494 \nL 1172 4494 \nz\n\" id=\"DejaVuSans-74\" transform=\"scale(0.015625)\"/>\n       <path d=\"M 3597 1894 \nL 3597 1613 \nL 953 1613 \nQ 991 1019 1311 708 \nQ 1631 397 2203 397 \nQ 2534 397 2845 478 \nQ 3156 559 3463 722 \nL 3463 178 \nQ 3153 47 2828 -22 \nQ 2503 -91 2169 -91 \nQ 1331 -91 842 396 \nQ 353 884 353 1716 \nQ 353 2575 817 3079 \nQ 1281 3584 2069 3584 \nQ 2775 3584 3186 3129 \nQ 3597 2675 3597 1894 \nz\nM 3022 2063 \nQ 3016 2534 2758 2815 \nQ 2500 3097 2075 3097 \nQ 1594 3097 1305 2825 \nQ 1016 2553 972 2059 \nL 3022 2063 \nz\n\" id=\"DejaVuSans-65\" transform=\"scale(0.015625)\"/>\n       <path d=\"M 2834 3397 \nL 2834 2853 \nQ 2591 2978 2328 3040 \nQ 2066 3103 1784 3103 \nQ 1356 3103 1142 2972 \nQ 928 2841 928 2578 \nQ 928 2378 1081 2264 \nQ 1234 2150 1697 2047 \nL 1894 2003 \nQ 2506 1872 2764 1633 \nQ 3022 1394 3022 966 \nQ 3022 478 2636 193 \nQ 2250 -91 1575 -91 \nQ 1294 -91 989 -36 \nQ 684 19 347 128 \nL 347 722 \nQ 666 556 975 473 \nQ 1284 391 1588 391 \nQ 1994 391 2212 530 \nQ 2431 669 2431 922 \nQ 2431 1156 2273 1281 \nQ 2116 1406 1581 1522 \nL 1381 1569 \nQ 847 1681 609 1914 \nQ 372 2147 372 2553 \nQ 372 3047 722 3315 \nQ 1072 3584 1716 3584 \nQ 2034 3584 2315 3537 \nQ 2597 3491 2834 3397 \nz\n\" id=\"DejaVuSans-73\" transform=\"scale(0.015625)\"/>\n      </defs>\n      <use xlink:href=\"#DejaVuSans-75\"/>\n      <use x=\"63.378906\" xlink:href=\"#DejaVuSans-70\"/>\n      <use x=\"126.855469\" xlink:href=\"#DejaVuSans-5f\"/>\n      <use x=\"176.855469\" xlink:href=\"#DejaVuSans-76\"/>\n      <use x=\"236.035156\" xlink:href=\"#DejaVuSans-6f\"/>\n      <use x=\"297.216797\" xlink:href=\"#DejaVuSans-74\"/>\n      <use x=\"336.425781\" xlink:href=\"#DejaVuSans-65\"/>\n      <use x=\"397.949219\" xlink:href=\"#DejaVuSans-73\"/>\n     </g>\n    </g>\n   </g>\n   <g id=\"matplotlib.axis_2\">\n    <g id=\"ytick_1\">\n     <g id=\"line2d_7\">\n      <defs>\n       <path d=\"M 0 0 \nL -3.5 0 \n\" id=\"mebfec70ad7\" style=\"stroke:#000000;stroke-width:0.8;\"/>\n      </defs>\n      <g>\n       <use style=\"stroke:#000000;stroke-width:0.8;\" x=\"59.690625\" xlink:href=\"#mebfec70ad7\" y=\"327.315139\"/>\n      </g>\n     </g>\n     <g id=\"text_8\">\n      <!-- 0 -->\n      <g transform=\"translate(46.328125 331.114358)scale(0.1 -0.1)\">\n       <use xlink:href=\"#DejaVuSans-30\"/>\n      </g>\n     </g>\n    </g>\n    <g id=\"ytick_2\">\n     <g id=\"line2d_8\">\n      <g>\n       <use style=\"stroke:#000000;stroke-width:0.8;\" x=\"59.690625\" xlink:href=\"#mebfec70ad7\" y=\"264.811799\"/>\n      </g>\n     </g>\n     <g id=\"text_9\">\n      <!-- 20000 -->\n      <g transform=\"translate(20.878125 268.611017)scale(0.1 -0.1)\">\n       <use xlink:href=\"#DejaVuSans-32\"/>\n       <use x=\"63.623047\" xlink:href=\"#DejaVuSans-30\"/>\n       <use x=\"127.246094\" xlink:href=\"#DejaVuSans-30\"/>\n       <use x=\"190.869141\" xlink:href=\"#DejaVuSans-30\"/>\n       <use x=\"254.492188\" xlink:href=\"#DejaVuSans-30\"/>\n      </g>\n     </g>\n    </g>\n    <g id=\"ytick_3\">\n     <g id=\"line2d_9\">\n      <g>\n       <use style=\"stroke:#000000;stroke-width:0.8;\" x=\"59.690625\" xlink:href=\"#mebfec70ad7\" y=\"202.308458\"/>\n      </g>\n     </g>\n     <g id=\"text_10\">\n      <!-- 40000 -->\n      <g transform=\"translate(20.878125 206.107677)scale(0.1 -0.1)\">\n       <use xlink:href=\"#DejaVuSans-34\"/>\n       <use x=\"63.623047\" xlink:href=\"#DejaVuSans-30\"/>\n       <use x=\"127.246094\" xlink:href=\"#DejaVuSans-30\"/>\n       <use x=\"190.869141\" xlink:href=\"#DejaVuSans-30\"/>\n       <use x=\"254.492188\" xlink:href=\"#DejaVuSans-30\"/>\n      </g>\n     </g>\n    </g>\n    <g id=\"ytick_4\">\n     <g id=\"line2d_10\">\n      <g>\n       <use style=\"stroke:#000000;stroke-width:0.8;\" x=\"59.690625\" xlink:href=\"#mebfec70ad7\" y=\"139.805118\"/>\n      </g>\n     </g>\n     <g id=\"text_11\">\n      <!-- 60000 -->\n      <g transform=\"translate(20.878125 143.604337)scale(0.1 -0.1)\">\n       <use xlink:href=\"#DejaVuSans-36\"/>\n       <use x=\"63.623047\" xlink:href=\"#DejaVuSans-30\"/>\n       <use x=\"127.246094\" xlink:href=\"#DejaVuSans-30\"/>\n       <use x=\"190.869141\" xlink:href=\"#DejaVuSans-30\"/>\n       <use x=\"254.492188\" xlink:href=\"#DejaVuSans-30\"/>\n      </g>\n     </g>\n    </g>\n    <g id=\"ytick_5\">\n     <g id=\"line2d_11\">\n      <g>\n       <use style=\"stroke:#000000;stroke-width:0.8;\" x=\"59.690625\" xlink:href=\"#mebfec70ad7\" y=\"77.301778\"/>\n      </g>\n     </g>\n     <g id=\"text_12\">\n      <!-- 80000 -->\n      <g transform=\"translate(20.878125 81.100997)scale(0.1 -0.1)\">\n       <use xlink:href=\"#DejaVuSans-38\"/>\n       <use x=\"63.623047\" xlink:href=\"#DejaVuSans-30\"/>\n       <use x=\"127.246094\" xlink:href=\"#DejaVuSans-30\"/>\n       <use x=\"190.869141\" xlink:href=\"#DejaVuSans-30\"/>\n       <use x=\"254.492188\" xlink:href=\"#DejaVuSans-30\"/>\n      </g>\n     </g>\n    </g>\n    <g id=\"text_13\">\n     <!-- Count -->\n     <g transform=\"translate(14.798438 188.666701)rotate(-90)scale(0.1 -0.1)\">\n      <defs>\n       <path d=\"M 4122 4306 \nL 4122 3641 \nQ 3803 3938 3442 4084 \nQ 3081 4231 2675 4231 \nQ 1875 4231 1450 3742 \nQ 1025 3253 1025 2328 \nQ 1025 1406 1450 917 \nQ 1875 428 2675 428 \nQ 3081 428 3442 575 \nQ 3803 722 4122 1019 \nL 4122 359 \nQ 3791 134 3420 21 \nQ 3050 -91 2638 -91 \nQ 1578 -91 968 557 \nQ 359 1206 359 2328 \nQ 359 3453 968 4101 \nQ 1578 4750 2638 4750 \nQ 3056 4750 3426 4639 \nQ 3797 4528 4122 4306 \nz\n\" id=\"DejaVuSans-43\" transform=\"scale(0.015625)\"/>\n       <path d=\"M 3513 2113 \nL 3513 0 \nL 2938 0 \nL 2938 2094 \nQ 2938 2591 2744 2837 \nQ 2550 3084 2163 3084 \nQ 1697 3084 1428 2787 \nQ 1159 2491 1159 1978 \nL 1159 0 \nL 581 0 \nL 581 3500 \nL 1159 3500 \nL 1159 2956 \nQ 1366 3272 1645 3428 \nQ 1925 3584 2291 3584 \nQ 2894 3584 3203 3211 \nQ 3513 2838 3513 2113 \nz\n\" id=\"DejaVuSans-6e\" transform=\"scale(0.015625)\"/>\n      </defs>\n      <use xlink:href=\"#DejaVuSans-43\"/>\n      <use x=\"69.824219\" xlink:href=\"#DejaVuSans-6f\"/>\n      <use x=\"131.005859\" xlink:href=\"#DejaVuSans-75\"/>\n      <use x=\"194.384766\" xlink:href=\"#DejaVuSans-6e\"/>\n      <use x=\"257.763672\" xlink:href=\"#DejaVuSans-74\"/>\n     </g>\n    </g>\n   </g>\n   <g id=\"line2d_12\">\n    <path clip-path=\"url(#pbfb19d4088)\" d=\"M 84.299919 327.315139 \nL 84.299919 20.321389 \n\" style=\"fill:none;stroke:#ff0000;stroke-dasharray:5.55,2.4;stroke-dashoffset:0;stroke-width:1.5;\"/>\n   </g>\n   <g id=\"patch_203\">\n    <path d=\"M 59.690625 327.315139 \nL 59.690625 20.321389 \n\" style=\"fill:none;stroke:#000000;stroke-linecap:square;stroke-linejoin:miter;stroke-width:0.8;\"/>\n   </g>\n   <g id=\"patch_204\">\n    <path d=\"M 59.690625 327.315139 \nL 345.715625 327.315139 \n\" style=\"fill:none;stroke:#000000;stroke-linecap:square;stroke-linejoin:miter;stroke-width:0.8;\"/>\n   </g>\n   <g id=\"text_14\">\n    <!-- 50 Percentile -->\n    <g transform=\"translate(84.299919 14.798437)scale(0.1 -0.1)\">\n     <defs>\n      <path d=\"M 691 4666 \nL 3169 4666 \nL 3169 4134 \nL 1269 4134 \nL 1269 2991 \nQ 1406 3038 1543 3061 \nQ 1681 3084 1819 3084 \nQ 2600 3084 3056 2656 \nQ 3513 2228 3513 1497 \nQ 3513 744 3044 326 \nQ 2575 -91 1722 -91 \nQ 1428 -91 1123 -41 \nQ 819 9 494 109 \nL 494 744 \nQ 775 591 1075 516 \nQ 1375 441 1709 441 \nQ 2250 441 2565 725 \nQ 2881 1009 2881 1497 \nQ 2881 1984 2565 2268 \nQ 2250 2553 1709 2553 \nQ 1456 2553 1204 2497 \nQ 953 2441 691 2322 \nL 691 4666 \nz\n\" id=\"DejaVuSans-35\" transform=\"scale(0.015625)\"/>\n      <path id=\"DejaVuSans-20\" transform=\"scale(0.015625)\"/>\n      <path d=\"M 1259 4147 \nL 1259 2394 \nL 2053 2394 \nQ 2494 2394 2734 2622 \nQ 2975 2850 2975 3272 \nQ 2975 3691 2734 3919 \nQ 2494 4147 2053 4147 \nL 1259 4147 \nz\nM 628 4666 \nL 2053 4666 \nQ 2838 4666 3239 4311 \nQ 3641 3956 3641 3272 \nQ 3641 2581 3239 2228 \nQ 2838 1875 2053 1875 \nL 1259 1875 \nL 1259 0 \nL 628 0 \nL 628 4666 \nz\n\" id=\"DejaVuSans-50\" transform=\"scale(0.015625)\"/>\n      <path d=\"M 2631 2963 \nQ 2534 3019 2420 3045 \nQ 2306 3072 2169 3072 \nQ 1681 3072 1420 2755 \nQ 1159 2438 1159 1844 \nL 1159 0 \nL 581 0 \nL 581 3500 \nL 1159 3500 \nL 1159 2956 \nQ 1341 3275 1631 3429 \nQ 1922 3584 2338 3584 \nQ 2397 3584 2469 3576 \nQ 2541 3569 2628 3553 \nL 2631 2963 \nz\n\" id=\"DejaVuSans-72\" transform=\"scale(0.015625)\"/>\n      <path d=\"M 3122 3366 \nL 3122 2828 \nQ 2878 2963 2633 3030 \nQ 2388 3097 2138 3097 \nQ 1578 3097 1268 2742 \nQ 959 2388 959 1747 \nQ 959 1106 1268 751 \nQ 1578 397 2138 397 \nQ 2388 397 2633 464 \nQ 2878 531 3122 666 \nL 3122 134 \nQ 2881 22 2623 -34 \nQ 2366 -91 2075 -91 \nQ 1284 -91 818 406 \nQ 353 903 353 1747 \nQ 353 2603 823 3093 \nQ 1294 3584 2113 3584 \nQ 2378 3584 2631 3529 \nQ 2884 3475 3122 3366 \nz\n\" id=\"DejaVuSans-63\" transform=\"scale(0.015625)\"/>\n      <path d=\"M 603 3500 \nL 1178 3500 \nL 1178 0 \nL 603 0 \nL 603 3500 \nz\nM 603 4863 \nL 1178 4863 \nL 1178 4134 \nL 603 4134 \nL 603 4863 \nz\n\" id=\"DejaVuSans-69\" transform=\"scale(0.015625)\"/>\n      <path d=\"M 603 4863 \nL 1178 4863 \nL 1178 0 \nL 603 0 \nL 603 4863 \nz\n\" id=\"DejaVuSans-6c\" transform=\"scale(0.015625)\"/>\n     </defs>\n     <use xlink:href=\"#DejaVuSans-35\"/>\n     <use x=\"63.623047\" xlink:href=\"#DejaVuSans-30\"/>\n     <use x=\"127.246094\" xlink:href=\"#DejaVuSans-20\"/>\n     <use x=\"159.033203\" xlink:href=\"#DejaVuSans-50\"/>\n     <use x=\"215.710938\" xlink:href=\"#DejaVuSans-65\"/>\n     <use x=\"277.234375\" xlink:href=\"#DejaVuSans-72\"/>\n     <use x=\"316.097656\" xlink:href=\"#DejaVuSans-63\"/>\n     <use x=\"371.078125\" xlink:href=\"#DejaVuSans-65\"/>\n     <use x=\"432.601562\" xlink:href=\"#DejaVuSans-6e\"/>\n     <use x=\"495.980469\" xlink:href=\"#DejaVuSans-74\"/>\n     <use x=\"535.189453\" xlink:href=\"#DejaVuSans-69\"/>\n     <use x=\"562.972656\" xlink:href=\"#DejaVuSans-6c\"/>\n     <use x=\"590.755859\" xlink:href=\"#DejaVuSans-65\"/>\n    </g>\n   </g>\n  </g>\n </g>\n <defs>\n  <clipPath id=\"pbfb19d4088\">\n   <rect height=\"306.99375\" width=\"286.025\" x=\"59.690625\" y=\"20.321389\"/>\n  </clipPath>\n </defs>\n</svg>\n",
      "image/png": "[encoded data removed]"
     },
     "metadata": {
      "needs_background": "light"
     }
    }
   ],
   "source": [
    "sns.displot(data, x=data[data['up_votes']<=112]['up_votes'], bins=200)\n",
    "plt.axvline(5, linestyle = '--', c='red')\n",
    "plt.text(5,100000, \"50 Percentile\")"
   ]
  },
  {
   "source": [
    "## Title Pre-Processing"
   ],
   "cell_type": "markdown",
   "metadata": {}
  },
  {
   "cell_type": "code",
   "execution_count": 13,
   "metadata": {},
   "outputs": [],
   "source": [
    "import nltk\n",
    "import string\n",
    "from nltk import word_tokenize\n",
    "from nltk.corpus import stopwords\n",
    "from nltk.stem.porter import PorterStemmer\n",
    "from nltk import pos_tag"
   ]
  },
  {
   "source": [
    "## Algorithms for Classification"
   ],
   "cell_type": "markdown",
   "metadata": {}
  },
  {
   "source": [
    "### Dataset Pre-Processing to reduce RAM usage"
   ],
   "cell_type": "markdown",
   "metadata": {}
  },
  {
   "cell_type": "code",
   "execution_count": 104,
   "metadata": {},
   "outputs": [
    {
     "output_type": "execute_result",
     "data": {
      "text/plain": [
       "4838"
      ]
     },
     "metadata": {},
     "execution_count": 104
    }
   ],
   "source": [
    "from random import sample\n",
    "import random\n",
    "random.seed(2021)\n",
    "data_filtered = data[data['up_votes']<=np.percentile(data['up_votes'], 95)]\n",
    "data_sampled = data_filtered.sample(frac=0.01)\n",
    "len(data_sampled)"
   ]
  },
  {
   "cell_type": "code",
   "execution_count": 105,
   "metadata": {},
   "outputs": [],
   "source": [
    "from sklearn.model_selection import train_test_split\n",
    "\n",
    "title = data_sampled['title'].values\n",
    "up_votes = data_sampled['up_votes'].values\n",
    "\n",
    "title_train, title_test, up_votes_train, up_votes_test = train_test_split(title, up_votes, test_size=0.25, random_state=42)"
   ]
  },
  {
   "source": [
    "### Testing using Logistic Regression"
   ],
   "cell_type": "markdown",
   "metadata": {}
  },
  {
   "cell_type": "code",
   "execution_count": 106,
   "metadata": {},
   "outputs": [
    {
     "output_type": "execute_result",
     "data": {
      "text/plain": [
       "<3628x9404 sparse matrix of type '<class 'numpy.int64'>'\n",
       "\twith 46416 stored elements in Compressed Sparse Row format>"
      ]
     },
     "metadata": {},
     "execution_count": 106
    }
   ],
   "source": [
    "from sklearn.feature_extraction.text import CountVectorizer\n",
    "\n",
    "vectorizer = CountVectorizer()\n",
    "vectorizer.fit(title_train)\n",
    "\n",
    "title_train = vectorizer.transform(title_train)\n",
    "title_test = vectorizer.transform(title_test)\n",
    "title_train"
   ]
  },
  {
   "cell_type": "code",
   "execution_count": 107,
   "metadata": {},
   "outputs": [
    {
     "output_type": "stream",
     "name": "stderr",
     "text": [
      "/home/kelvin/.local/lib/python3.8/site-packages/sklearn/linear_model/_logistic.py:763: ConvergenceWarning: lbfgs failed to converge (status=1):\nSTOP: TOTAL NO. of ITERATIONS REACHED LIMIT.\n\nIncrease the number of iterations (max_iter) or scale the data as shown in:\n    https://scikit-learn.org/stable/modules/preprocessing.html\nPlease also refer to the documentation for alternative solver options:\n    https://scikit-learn.org/stable/modules/linear_model.html#logistic-regression\n  n_iter_i = _check_optimize_result(\n"
     ]
    }
   ],
   "source": [
    "from sklearn.linear_model import LogisticRegression\n",
    "\n",
    "classifier = LogisticRegression()\n",
    "classifier.fit(title_train, up_votes_train)\n",
    "score = classifier.score(title_test, up_votes_test)"
   ]
  },
  {
   "cell_type": "code",
   "execution_count": 108,
   "metadata": {},
   "outputs": [
    {
     "output_type": "stream",
     "name": "stdout",
     "text": [
      "Accuracy 0.1537190082644628\n"
     ]
    }
   ],
   "source": [
    "print(\"Accuracy\", score)"
   ]
  },
  {
   "source": [
    "### Building Neural Network"
   ],
   "cell_type": "markdown",
   "metadata": {}
  },
  {
   "cell_type": "code",
   "execution_count": 109,
   "metadata": {},
   "outputs": [],
   "source": [
    "from keras.models import Sequential\n",
    "from keras import layers\n",
    "\n",
    "input_dim = title_train.shape[1]\n",
    "\n",
    "model = Sequential()\n",
    "model.add(layers.Dense(64, input_dim = input_dim, activation='relu'))\n",
    "model.add(layers.Dense(16, activation='relu'))\n",
    "model.add(layers.Dense(4, activation='relu'))\n",
    "model.add(layers.Dense(1, activation='sigmoid'))"
   ]
  },
  {
   "cell_type": "code",
   "execution_count": 110,
   "metadata": {},
   "outputs": [
    {
     "output_type": "stream",
     "name": "stdout",
     "text": [
      "Model: \"sequential\"\n_________________________________________________________________\nLayer (type)                 Output Shape              Param #   \n=================================================================\ndense (Dense)                (None, 64)                601920    \n_________________________________________________________________\ndense_1 (Dense)              (None, 16)                1040      \n_________________________________________________________________\ndense_2 (Dense)              (None, 4)                 68        \n_________________________________________________________________\ndense_3 (Dense)              (None, 1)                 5         \n=================================================================\nTotal params: 603,033\nTrainable params: 603,033\nNon-trainable params: 0\n_________________________________________________________________\n"
     ]
    }
   ],
   "source": [
    "model.compile(loss='binary_crossentropy', \n",
    "              optimizer='adam', \n",
    "              metrics=['accuracy'])\n",
    "model.summary()\n"
   ]
  },
  {
   "cell_type": "code",
   "execution_count": 111,
   "metadata": {},
   "outputs": [
    {
     "output_type": "execute_result",
     "data": {
      "text/plain": [
       "<tensorflow.python.keras.callbacks.History at 0x7f282c264040>"
      ]
     },
     "metadata": {},
     "execution_count": 111
    }
   ],
   "source": [
    "model.fit(title_train, up_votes_train,\n",
    "                    epochs=50,\n",
    "                    verbose=False,\n",
    "                    validation_data=(title_test, up_votes_test),\n",
    "                    batch_size=25)"
   ]
  },
  {
   "cell_type": "code",
   "execution_count": 112,
   "metadata": {},
   "outputs": [],
   "source": [
    "from keras.backend import clear_session\n",
    "clear_session()"
   ]
  },
  {
   "cell_type": "code",
   "execution_count": 113,
   "metadata": {},
   "outputs": [
    {
     "output_type": "stream",
     "name": "stdout",
     "text": [
      "Training Accuracy: 0.0888\nTesting Accuracy:  0.1017\n"
     ]
    }
   ],
   "source": [
    "loss, accuracy = model.evaluate(title_train, up_votes_train, verbose=False)\n",
    "print(\"Training Accuracy: {:.4f}\".format(accuracy))\n",
    "loss, accuracy = model.evaluate(title_test, up_votes_test, verbose=False)\n",
    "print(\"Testing Accuracy:  {:.4f}\".format(accuracy))"
   ]
  },
  {
   "cell_type": "code",
   "execution_count": null,
   "metadata": {},
   "outputs": [],
   "source": []
  },
  {
   "cell_type": "code",
   "execution_count": null,
   "metadata": {},
   "outputs": [],
   "source": []
  }
 ]
}